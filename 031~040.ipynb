{
 "cells": [
  {
   "cell_type": "markdown",
   "metadata": {},
   "source": [
    "# 01. 변수와 문자열\n",
    "----------------------------------------------------------------------"
   ]
  },
  {
   "cell_type": "markdown",
   "metadata": {},
   "source": [
    "## 031 문자열 자르기\n",
    "사용자로부터 파일명을 입력 받은 후 확장자만 출력하는 프로그램을 작성하라."
   ]
  },
  {
   "cell_type": "code",
   "execution_count": 1,
   "metadata": {},
   "outputs": [
    {
     "name": "stdout",
     "output_type": "stream",
     "text": [
      "filename : python.py\n",
      "py\n"
     ]
    }
   ],
   "source": [
    "filename = input('filename : ')\n",
    "\n",
    "print (filename.split('.')[1])"
   ]
  },
  {
   "cell_type": "markdown",
   "metadata": {},
   "source": [
    "## 032 count 메서드\n",
    "다음 문자열에서 'python' 문자열의 빈도수를 출력하라."
   ]
  },
  {
   "cell_type": "code",
   "execution_count": 2,
   "metadata": {},
   "outputs": [
    {
     "name": "stdout",
     "output_type": "stream",
     "text": [
      "2\n"
     ]
    }
   ],
   "source": [
    "introduce = \"python is widely used high-level language. python was conceived in the late 1980s\"\n",
    "\n",
    "print (introduce.count('python'))"
   ]
  },
  {
   "cell_type": "code",
   "execution_count": 3,
   "metadata": {},
   "outputs": [
    {
     "name": "stdout",
     "output_type": "stream",
     "text": [
      "2\n"
     ]
    }
   ],
   "source": [
    "# 다른 답\n",
    "introduce = \"python is widely used high-level language. python was conceived in the late 1980s\"\n",
    "\n",
    "print (len(introduce.split('python'))-1)"
   ]
  },
  {
   "cell_type": "markdown",
   "metadata": {},
   "source": [
    "## 033 lower 메서드\n",
    "사용자가 입력한 영어 단어에 대해 소문자로 변환하여 출력하라. (힌트: lower 메서드 사용)"
   ]
  },
  {
   "cell_type": "code",
   "execution_count": 4,
   "metadata": {},
   "outputs": [
    {
     "name": "stdout",
     "output_type": "stream",
     "text": [
      "input : PYTHON\n",
      "python\n"
     ]
    }
   ],
   "source": [
    "word = input(\"input : \")\n",
    "print (word.lower())"
   ]
  },
  {
   "cell_type": "markdown",
   "metadata": {},
   "source": [
    "## 034 zfill 메서드\n",
    "mystr이 바인딩하는 문자열을 실행 예와 같이 0을 채워 출력하라. (힌트: zfill 메서드 사용)"
   ]
  },
  {
   "cell_type": "code",
   "execution_count": 5,
   "metadata": {},
   "outputs": [
    {
     "name": "stdout",
     "output_type": "stream",
     "text": [
      "00013\n"
     ]
    }
   ],
   "source": [
    "mystr = \"13\"\n",
    "\n",
    "print (mystr.zfill(5))"
   ]
  },
  {
   "cell_type": "markdown",
   "metadata": {},
   "source": [
    "## 035 strip 메서드\n",
    "다음 문자열에서 ...를 제거하라"
   ]
  },
  {
   "cell_type": "code",
   "execution_count": 6,
   "metadata": {},
   "outputs": [
    {
     "name": "stdout",
     "output_type": "stream",
     "text": [
      "a man goes into the room\n"
     ]
    }
   ],
   "source": [
    "mystr = \"a man goes into the room...\"\n",
    "\n",
    "print (mystr.strip('...'))"
   ]
  },
  {
   "cell_type": "markdown",
   "metadata": {},
   "source": [
    "## 036 인덱싱 에러\n",
    "다음 코드의 결과를 예상해보고 에러가 발생한 이유를 설명하라.\n",
    "```{.python}\n",
    "t = 'python'\n",
    "t[100]\n",
    "```"
   ]
  },
  {
   "cell_type": "code",
   "execution_count": 7,
   "metadata": {},
   "outputs": [],
   "source": [
    "# 문자열의 size 이상을 indexing 하려고 해서 에러가 났다."
   ]
  },
  {
   "cell_type": "markdown",
   "metadata": {},
   "source": [
    "## 037 경로 분리\n",
    "사용자로부터 윈도우 디렉터리 경로를 입력 받은 후 가장 최종 디렉터리를 출력하라."
   ]
  },
  {
   "cell_type": "code",
   "execution_count": 9,
   "metadata": {},
   "outputs": [
    {
     "name": "stdout",
     "output_type": "stream",
     "text": [
      "path : c:\\\\program files\\\\python\n",
      "python\n"
     ]
    }
   ],
   "source": [
    "path = input(\"path : \")\n",
    "\n",
    "print (path.split('\\\\')[-1])"
   ]
  },
  {
   "cell_type": "markdown",
   "metadata": {},
   "source": [
    "## 038 문자열 분리 및 합치기\n",
    "'spam egg' 문자열을 'egg samp'으로 변경하라."
   ]
  },
  {
   "cell_type": "code",
   "execution_count": 10,
   "metadata": {},
   "outputs": [
    {
     "name": "stdout",
     "output_type": "stream",
     "text": [
      "egg spam\n"
     ]
    }
   ],
   "source": [
    "word = 'spam egg'\n",
    "\n",
    "reverse = word.split(' ')[::-1]\n",
    "\n",
    "print (\" \".join(reverse))"
   ]
  },
  {
   "cell_type": "markdown",
   "metadata": {},
   "source": [
    "## 039 문자열 개수 확인\n",
    "'Python python pYthon java Java'에서 대소문자를 구분하지 않고 사용된 python 문자열의 개수를 출력하라."
   ]
  },
  {
   "cell_type": "code",
   "execution_count": 11,
   "metadata": {},
   "outputs": [
    {
     "name": "stdout",
     "output_type": "stream",
     "text": [
      "3\n"
     ]
    }
   ],
   "source": [
    "string = 'Python python pYthon java Java'\n",
    "check = 'python'\n",
    "print (string.lower().count(check.lower()))"
   ]
  },
  {
   "cell_type": "markdown",
   "metadata": {},
   "source": [
    "## 040 문자열 분리\n",
    "사용자로부터 '10:00:01'와 같은 형태로 시간을 입력 받은 후 해당 시간이 00:00:00 으로부터 몇 초가 지났는지를 출력하라."
   ]
  },
  {
   "cell_type": "code",
   "execution_count": 12,
   "metadata": {},
   "outputs": [
    {
     "name": "stdout",
     "output_type": "stream",
     "text": [
      "time : 10:00:01\n",
      "36001\n"
     ]
    }
   ],
   "source": [
    "time= input(\"time : \")\n",
    "\n",
    "t = time.split(':')\n",
    "diff_t = int(t[0]) * 3600 + int(t[1]) * 60 + int(t[2])\n",
    "\n",
    "print (diff_t)"
   ]
  },
  {
   "cell_type": "code",
   "execution_count": null,
   "metadata": {},
   "outputs": [],
   "source": []
  }
 ],
 "metadata": {
  "kernelspec": {
   "display_name": "Python 3",
   "language": "python",
   "name": "python3"
  },
  "language_info": {
   "codemirror_mode": {
    "name": "ipython",
    "version": 3
   },
   "file_extension": ".py",
   "mimetype": "text/x-python",
   "name": "python",
   "nbconvert_exporter": "python",
   "pygments_lexer": "ipython3",
   "version": "3.6.0"
  }
 },
 "nbformat": 4,
 "nbformat_minor": 2
}
