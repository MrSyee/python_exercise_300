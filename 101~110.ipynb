{
 "cells": [
  {
   "cell_type": "markdown",
   "metadata": {},
   "source": [
    "# 03. 파이썬 제어문\n",
    "----------------------------------------------------------------------"
   ]
  },
  {
   "cell_type": "markdown",
   "metadata": {},
   "source": [
    "## 101 for 문을 사용한 숫자더하기\n",
    "1~10까지의 숫자에 대해 모두 더한 값을 출력하는 프로그램을 for 문을 사용하여 작성하라."
   ]
  },
  {
   "cell_type": "code",
   "execution_count": 1,
   "metadata": {},
   "outputs": [
    {
     "name": "stdout",
     "output_type": "stream",
     "text": [
      "합 : 55\n"
     ]
    }
   ],
   "source": [
    "total = 0\n",
    "for i in range(1, 11):\n",
    "    total += i\n",
    "    \n",
    "print ('합 : %d' % total)"
   ]
  },
  {
   "cell_type": "markdown",
   "metadata": {},
   "source": [
    "## 102 while 문을 사용한 숫자더하기\n",
    "1~10까지의 숫자에 대해 모두 더한 값을 출력하는 프로그램을 while 문을 사용하여 작성하라."
   ]
  },
  {
   "cell_type": "code",
   "execution_count": 2,
   "metadata": {},
   "outputs": [
    {
     "name": "stdout",
     "output_type": "stream",
     "text": [
      "합 : 55\n"
     ]
    }
   ],
   "source": [
    "total = 0\n",
    "i = 1\n",
    "while(i<11):\n",
    "    total += i\n",
    "    i += 1\n",
    "    \n",
    "print ('합 : %d' % total)"
   ]
  },
  {
   "cell_type": "markdown",
   "metadata": {},
   "source": [
    "## 103 현관문 비밀번호\n",
    "사용자로부터 4자리의 숫자로 구성된 현관문의 비밀번호를 입력받은 후 이를 초기 비밀번호와 같은지 체크하는 프로그램을 작성하라. 무한 루프를 사용하고 5번 연속 틀린 경우 프로그램이 종료되도록 구현하라."
   ]
  },
  {
   "cell_type": "code",
   "execution_count": 3,
   "metadata": {},
   "outputs": [
    {
     "name": "stdout",
     "output_type": "stream",
     "text": [
      "비밀번호 등록 : 1234\n",
      "비밀번호가 1234로 등록되었습니다.\n",
      "-------------------------------------------------------------------\n",
      "비밀번호 입력 : 4444\n",
      "틀렸습니다. 다시 입력하세요.\n",
      "비밀번호 입력 : 5555\n",
      "틀렸습니다. 다시 입력하세요.\n",
      "비밀번호 입력 : 2222\n",
      "틀렸습니다. 다시 입력하세요.\n",
      "비밀번호 입력 : 3333\n",
      "틀렸습니다. 다시 입력하세요.\n",
      "비밀번호 입력 : 1234\n",
      "맞았습니다. 현관문이 열렸습니다.\n"
     ]
    }
   ],
   "source": [
    "password = input(\"비밀번호 등록 : \")\n",
    "print (\"비밀번호가 %s로 등록되었습니다.\" % password)\n",
    "print (\"-------------------------------------------------------------------\")\n",
    "count = 1\n",
    "while(True):\n",
    "    in_pwd = input(\"비밀번호 입력 : \")\n",
    "    \n",
    "    if password != in_pwd:\n",
    "        print (\"틀렸습니다. 다시 입력하세요.\")\n",
    "        count += 1\n",
    "    else:\n",
    "        print (\"맞았습니다. 현관문이 열렸습니다.\")\n",
    "        break\n",
    "    \n",
    "    if count>5:\n",
    "        print (\"5번 연속 틀렸습니다. 프로그램을 종료합니다.\")\n",
    "        break"
   ]
  },
  {
   "cell_type": "markdown",
   "metadata": {},
   "source": [
    "## 104 우유 배달 프로그램\n",
    "아파트의 각 집마다 배달해야 하는 우유의 그 개수를 파이썬 딕셔너리로 표현했다. 해당 딕셔너리를 사용하여 각 집마다 배달해야 하는 우유와 그 개수를 출력하는 프로그램을 작성하라."
   ]
  },
  {
   "cell_type": "code",
   "execution_count": 23,
   "metadata": {},
   "outputs": [
    {
     "name": "stdout",
     "output_type": "stream",
     "text": [
      "101 호 : 서울우유(200ml) 1 개\n",
      "102 호 : 서울우유(500ml) 2 개\n",
      "103 호 : 남양우유(1L) 1 개\n",
      "104 호 : 배달할 우유가 없습니다.\n"
     ]
    }
   ],
   "source": [
    "milk_order = {'101': {'서울우유(200ml)':1, '남양 요구르트': 5},\n",
    "              '102': {'서울우유(500ml)':2},\n",
    "              '103': {'남양우유(1L)': 1, '남양 요구르트': 10},\n",
    "              '104': {'서울 요구르트': 15}}\n",
    "\n",
    "for house in milk_order.keys():\n",
    "    flag = 0\n",
    "    for item in milk_order[house].keys():\n",
    "        if \"우유\" in item:\n",
    "            flag = 1\n",
    "            print (\"{} 호 : {} {} 개\".format(house, item, milk_order[house][item]))\n",
    "    if flag == 0:\n",
    "        print (\"{} 호 : 배달할 우유가 없습니다.\".format(house))"
   ]
  },
  {
   "cell_type": "markdown",
   "metadata": {},
   "source": [
    "## 105 별 모양 출력하기\n",
    "다음과 같은 패턴의 별(*)을 출력하는 프로그램을 작성하라."
   ]
  },
  {
   "cell_type": "code",
   "execution_count": 5,
   "metadata": {},
   "outputs": [
    {
     "name": "stdout",
     "output_type": "stream",
     "text": [
      "*\n",
      "**\n",
      "***\n",
      "****\n",
      "*****\n",
      "****\n",
      "***\n",
      "**\n",
      "*\n"
     ]
    }
   ],
   "source": [
    "def star1(limit):\n",
    "    star = '*'\n",
    "    count = 0\n",
    "    for i in range(0,limit*2-1):\n",
    "        if i<limit:\n",
    "            count += 1\n",
    "        else:\n",
    "            count -= 1\n",
    "        print (star*count)\n",
    "        \n",
    "star1(5)"
   ]
  },
  {
   "cell_type": "markdown",
   "metadata": {},
   "source": [
    "## 106 별 모양 출력하기2\n",
    "다음과 같은 패턴의 별(*)을 출력하는 프로그램을 작성하라."
   ]
  },
  {
   "cell_type": "code",
   "execution_count": 6,
   "metadata": {},
   "outputs": [
    {
     "name": "stdout",
     "output_type": "stream",
     "text": [
      "         *\n",
      "       **\n",
      "     ***\n",
      "   ****\n",
      " *****\n",
      "   ****\n",
      "     ***\n",
      "       **\n",
      "         *\n"
     ]
    }
   ],
   "source": [
    "def star2(limit):\n",
    "    star = '*'\n",
    "    space = \"  \"\n",
    "    count = 0\n",
    "    for i in range(0,limit*2-1):\n",
    "        if i<limit:\n",
    "            count += 1\n",
    "        else:\n",
    "            count -= 1\n",
    "        print (space*(limit-count), star*count)\n",
    "        \n",
    "star2(5)"
   ]
  },
  {
   "cell_type": "markdown",
   "metadata": {},
   "source": [
    "## 107 별 모양 출력하기3\n",
    "다음과 같은 패턴의 별(*)을 출력하는 프로그램을 작성하라."
   ]
  },
  {
   "cell_type": "code",
   "execution_count": 7,
   "metadata": {},
   "outputs": [
    {
     "name": "stdout",
     "output_type": "stream",
     "text": [
      "*****\n",
      "****\n",
      "***\n",
      "**\n",
      "*\n",
      "**\n",
      "***\n",
      "****\n",
      "*****\n"
     ]
    }
   ],
   "source": [
    "def star3(limit):\n",
    "    star = '*'\n",
    "    count = limit+1\n",
    "    for i in range(0,limit*2-1):\n",
    "        if i<limit:\n",
    "            count -= 1\n",
    "        else:\n",
    "            count += 1\n",
    "        print (star*count)\n",
    "        \n",
    "star3(5)"
   ]
  },
  {
   "cell_type": "markdown",
   "metadata": {},
   "source": [
    "## 108 문자열에 대한 반복문\n",
    "country가 'United States of America'라는 문자열을 바인딩하고 있을 때 대문자만을 출력하는 프로그램을 작성하라."
   ]
  },
  {
   "cell_type": "code",
   "execution_count": 8,
   "metadata": {},
   "outputs": [
    {
     "name": "stdout",
     "output_type": "stream",
     "text": [
      "USA\n"
     ]
    }
   ],
   "source": [
    "country = 'United States of America'\n",
    "\n",
    "def uppername(name):\n",
    "    outname = \"\"\n",
    "    for s in name:\n",
    "        if s.isupper():\n",
    "            outname += s\n",
    "    return outname\n",
    "\n",
    "print (uppername(country))"
   ]
  },
  {
   "cell_type": "markdown",
   "metadata": {},
   "source": [
    "## 109 range와 월드컵\n",
    "월드컵은 4년에 한 번 개최된다. range()를 사용하여 2000~2050년까지 중 월드컵이 개최되는 연도를 출력하라."
   ]
  },
  {
   "cell_type": "code",
   "execution_count": 9,
   "metadata": {},
   "outputs": [
    {
     "name": "stdout",
     "output_type": "stream",
     "text": [
      "2002\n",
      "2006\n",
      "2010\n",
      "2014\n",
      "2018\n",
      "2022\n",
      "2026\n",
      "2030\n",
      "2034\n",
      "2038\n",
      "2042\n",
      "2046\n",
      "2050\n"
     ]
    }
   ],
   "source": [
    "def whenWC(s, e):\n",
    "    if s<1930:\n",
    "        print (\"월드컵의 최초 개최년은 1930년입니다\")\n",
    "        s = 1930\n",
    "    term = s - 1930\n",
    "    period = term % 4\n",
    "    for i in range(s, e+1):\n",
    "        if period % 4 == 0:\n",
    "            print (i)\n",
    "        period += 1\n",
    "    \n",
    "whenWC(2000,2050)"
   ]
  },
  {
   "cell_type": "markdown",
   "metadata": {},
   "source": [
    "## 110 리스트 인덱스 출력하기\n",
    "파이썬 리스트에 다음과 같은 데이터가 저장되어 있을 때 반복문을 사용하여 리스트의 인덱스를 출력하라."
   ]
  },
  {
   "cell_type": "code",
   "execution_count": 10,
   "metadata": {},
   "outputs": [
    {
     "name": "stdout",
     "output_type": "stream",
     "text": [
      "0\n",
      "1\n",
      "2\n",
      "3\n",
      "4\n",
      "5\n"
     ]
    }
   ],
   "source": [
    "mylist = [5, 8, 2, 1, 0, 6]\n",
    "\n",
    "for i, v in enumerate(mylist):\n",
    "    print (i)"
   ]
  },
  {
   "cell_type": "code",
   "execution_count": null,
   "metadata": {
    "collapsed": true
   },
   "outputs": [],
   "source": []
  }
 ],
 "metadata": {
  "kernelspec": {
   "display_name": "Python 3",
   "language": "python",
   "name": "python3"
  },
  "language_info": {
   "codemirror_mode": {
    "name": "ipython",
    "version": 3
   },
   "file_extension": ".py",
   "mimetype": "text/x-python",
   "name": "python",
   "nbconvert_exporter": "python",
   "pygments_lexer": "ipython3",
   "version": "3.6.3"
  }
 },
 "nbformat": 4,
 "nbformat_minor": 2
}
