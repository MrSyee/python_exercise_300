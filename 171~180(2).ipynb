{
 "cells": [
  {
   "cell_type": "markdown",
   "metadata": {},
   "source": [
    "# 05. 파이썬 클래스\n",
    "----------------------------------------------------------------------"
   ]
  },
  {
   "cell_type": "markdown",
   "metadata": {},
   "source": [
    "## 171 덧셈 연산자\n",
    "정수를 저장하는 \"int\" 타입 또한 하나의 클래스로 볼 수 있다. int 클래스는 정수 값을 하나 저장하고, 클래스 간의 사칙연산 (+, -, *, /) 기능을 지원한다.\n",
    "\n",
    "int 클래스와 유사하게 정수 값을 저장하고 덧셈 연산을 지원하는 myInt 클래스를 구현해보자. (hint : __add__(self, other))"
   ]
  },
  {
   "cell_type": "code",
   "execution_count": 1,
   "metadata": {},
   "outputs": [
    {
     "data": {
      "text/plain": [
       "7"
      ]
     },
     "execution_count": 1,
     "metadata": {},
     "output_type": "execute_result"
    }
   ],
   "source": [
    "class myInt:\n",
    "    def __init__(self, num):\n",
    "        self.num = num\n",
    "        \n",
    "    def __add__(self, other):\n",
    "        return myInt(self.num + other.num)\n",
    "    \n",
    "l = myInt(4)\n",
    "r = myInt(3)\n",
    "ans = l + r\n",
    "ans.num"
   ]
  },
  {
   "cell_type": "markdown",
   "metadata": {},
   "source": [
    "## 172 스트링\n",
    "print 함수는 정수, 문자열 등을 화면에 출력하는 기능을 수행한다. 171번에서 작성한 myInt 클래스를 print 함수를 통해 출력해 보자. (hint : __str__(self))"
   ]
  },
  {
   "cell_type": "code",
   "execution_count": 2,
   "metadata": {},
   "outputs": [
    {
     "name": "stdout",
     "output_type": "stream",
     "text": [
      "4\n"
     ]
    }
   ],
   "source": [
    "class myInt:\n",
    "    def __init__(self, num):\n",
    "        self.num = num\n",
    "        \n",
    "    def __add__(self, other):\n",
    "        return myInt(self.num + other.num)\n",
    "    \n",
    "    def __str__(self):\n",
    "        return str(self.num)\n",
    "    \n",
    "a = myInt(4)\n",
    "print (a)\n"
   ]
  },
  {
   "cell_type": "code",
   "execution_count": null,
   "metadata": {
    "collapsed": true
   },
   "outputs": [],
   "source": []
  }
 ],
 "metadata": {
  "kernelspec": {
   "display_name": "Python 3",
   "language": "python",
   "name": "python3"
  },
  "language_info": {
   "codemirror_mode": {
    "name": "ipython",
    "version": 3
   },
   "file_extension": ".py",
   "mimetype": "text/x-python",
   "name": "python",
   "nbconvert_exporter": "python",
   "pygments_lexer": "ipython3",
   "version": "3.6.3"
  }
 },
 "nbformat": 4,
 "nbformat_minor": 2
}
