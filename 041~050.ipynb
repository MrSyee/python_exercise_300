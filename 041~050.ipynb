{
 "cells": [
  {
   "cell_type": "markdown",
   "metadata": {},
   "source": [
    "# 02. 파이썬 기본 자료구조\n",
    "----------------------------------------------------------------------"
   ]
  },
  {
   "cell_type": "markdown",
   "metadata": {},
   "source": [
    "## 041 리스트 생성\n",
    "2016년 11월 영화 예매 순위 기준 top3는 다음과 같다. 이를 파이썬 리스트로 표현하라."
   ]
  },
  {
   "cell_type": "code",
   "execution_count": 1,
   "metadata": {},
   "outputs": [
    {
     "name": "stdout",
     "output_type": "stream",
     "text": [
      "['닥터스트레인지', '스플릿', '럭키']\n"
     ]
    }
   ],
   "source": [
    "rank = ['닥터스트레인지', '스플릿', '럭키']\n",
    "\n",
    "print (rank)"
   ]
  },
  {
   "cell_type": "markdown",
   "metadata": {},
   "source": [
    "## 042 리스트 생성\n",
    "2016년 11월 영화 예매 순위 기준 top3는 다음과 같다. 파이썬 리스트에 딕셔너리를 넣는 형태로 다음 표를 표현하라. (힌트: 리스트의 원소는 딕셔너리이다. 딕셔너리의 key는 영화 제목이고 value는 예매율과 평점이다. )"
   ]
  },
  {
   "cell_type": "code",
   "execution_count": 2,
   "metadata": {},
   "outputs": [
    {
     "name": "stdout",
     "output_type": "stream",
     "text": [
      "[{'닥터스트레인지': [36.6, 7.7]}, {'스플릿': [18.8, 8.1]}, {'럭키': [12.7, 7.6]}]\n"
     ]
    }
   ],
   "source": [
    "rank = [{'닥터스트레인지': [36.6, 7.7]},\n",
    "            {'스플릿':[18.8, 8.1]},\n",
    "             {'럭키':[12.7, 7.6]}]\n",
    "\n",
    "print (rank)"
   ]
  },
  {
   "cell_type": "markdown",
   "metadata": {},
   "source": [
    "## 043 리스트 합치기\n",
    "lang1과 lang2 리스트가 있을 때 lang1과 lang2의 원소를 모두 갖고 있는 langs 리스트를 만들어라."
   ]
  },
  {
   "cell_type": "code",
   "execution_count": 3,
   "metadata": {},
   "outputs": [
    {
     "name": "stdout",
     "output_type": "stream",
     "text": [
      "['C', 'C++', 'JAVA', 'Python', 'Go', 'C#']\n"
     ]
    }
   ],
   "source": [
    "lang1 = [\"C\", \"C++\", \"JAVA\"]\n",
    "lang2 = [\"Python\", \"Go\", \"C#\"]\n",
    "\n",
    "langs = lang1 + lang2\n",
    "\n",
    "print (langs)"
   ]
  },
  {
   "cell_type": "markdown",
   "metadata": {},
   "source": [
    "## 044 최댓값, 최솟값\n",
    "다음 리스트에서 최댓값과 최솟값을 출력하라. (힌트: min(), max() 함수 사용)"
   ]
  },
  {
   "cell_type": "code",
   "execution_count": 4,
   "metadata": {},
   "outputs": [
    {
     "name": "stdout",
     "output_type": "stream",
     "text": [
      "max:  7\n",
      "min:  1\n"
     ]
    }
   ],
   "source": [
    "nums = [1, 2, 3, 4, 5, 6, 7]\n",
    "\n",
    "print ('max: ', max(nums))\n",
    "print ('min: ', min(nums))"
   ]
  },
  {
   "cell_type": "markdown",
   "metadata": {},
   "source": [
    "## 045 리스트 정렬\n",
    "다음과 같이 정수로 구성된 리스트가 있을 때 이를 오름차순으로 정렬하라."
   ]
  },
  {
   "cell_type": "code",
   "execution_count": 11,
   "metadata": {},
   "outputs": [
    {
     "name": "stdout",
     "output_type": "stream",
     "text": [
      "[1, 2, 3, 4, 5, 7, 8, 10]\n"
     ]
    }
   ],
   "source": [
    "nums = [2, 3, 1, 7, 10, 4, 5, 8]\n",
    "\n",
    "nums = sorted(nums)\n",
    "\n",
    "print (nums)"
   ]
  },
  {
   "cell_type": "code",
   "execution_count": 12,
   "metadata": {},
   "outputs": [
    {
     "name": "stdout",
     "output_type": "stream",
     "text": [
      "[1, 2, 3, 4, 5, 7, 8, 10]\n"
     ]
    }
   ],
   "source": [
    "# 다른 답\n",
    "nums = [2, 3, 1, 7, 10, 4, 5, 8]\n",
    "\n",
    "nums.sort()\n",
    "\n",
    "print (nums)"
   ]
  },
  {
   "cell_type": "markdown",
   "metadata": {},
   "source": [
    "## 046 리스트 reverse\n",
    "다음과 같이 날짜로 구성된 리스트가 있을 때 이를 역순으로 정렬하라."
   ]
  },
  {
   "cell_type": "code",
   "execution_count": 5,
   "metadata": {},
   "outputs": [
    {
     "name": "stdout",
     "output_type": "stream",
     "text": [
      "['2016-09-09', '2016-09-08', '2016-09-07', '2016-09-06', '2016-09-05']\n"
     ]
    }
   ],
   "source": [
    "tlist = ['2016-09-05', '2016-09-06', '2016-09-07', '2016-09-08', '2016-09-09']\n",
    "\n",
    "tlist = tlist[::-1]\n",
    "\n",
    "print (tlist)"
   ]
  },
  {
   "cell_type": "code",
   "execution_count": 13,
   "metadata": {},
   "outputs": [
    {
     "name": "stdout",
     "output_type": "stream",
     "text": [
      "['2016-09-09', '2016-09-08', '2016-09-07', '2016-09-06', '2016-09-05']\n"
     ]
    }
   ],
   "source": [
    "# 다른 답\n",
    "tlist = ['2016-09-05', '2016-09-06', '2016-09-07', '2016-09-08', '2016-09-09']\n",
    "\n",
    "tlist.reverse()\n",
    "\n",
    "print (tlist)"
   ]
  },
  {
   "cell_type": "markdown",
   "metadata": {},
   "source": [
    "## 047 평균값 계산\n",
    "다음은 대신증권의 최근 5일 종가 데이터이다. 최근 5일치 종가의 평균 값을 출력하라."
   ]
  },
  {
   "cell_type": "code",
   "execution_count": 6,
   "metadata": {},
   "outputs": [
    {
     "name": "stdout",
     "output_type": "stream",
     "text": [
      "average:  10520.0\n"
     ]
    }
   ],
   "source": [
    "close_price_daeshin = [10000, 10500, 10300, 10700, 11100]\n",
    "\n",
    "average = sum(close_price_daeshin)/len(close_price_daeshin)\n",
    "\n",
    "print ('average: ', average)"
   ]
  },
  {
   "cell_type": "markdown",
   "metadata": {},
   "source": [
    "## 048 리스트 형 변환\n",
    "다음 리스트를 튜플로 변경하라."
   ]
  },
  {
   "cell_type": "code",
   "execution_count": 7,
   "metadata": {},
   "outputs": [
    {
     "name": "stdout",
     "output_type": "stream",
     "text": [
      "<class 'list'>\n",
      "<class 'tuple'>\n",
      "('a', 'b', 'c', 'd', 'e')\n"
     ]
    }
   ],
   "source": [
    "data = ['a', 'b', 'c', 'd', 'e']\n",
    "print (type(data))\n",
    "\n",
    "data = tuple(data)\n",
    "print (type(data))\n",
    "\n",
    "print (data)"
   ]
  },
  {
   "cell_type": "markdown",
   "metadata": {},
   "source": [
    "## 049 리스트 삭제\n",
    "다음 리스트에서 4, 5를 삭제하라."
   ]
  },
  {
   "cell_type": "code",
   "execution_count": 8,
   "metadata": {},
   "outputs": [
    {
     "name": "stdout",
     "output_type": "stream",
     "text": [
      "[1, 2, 3]\n"
     ]
    }
   ],
   "source": [
    "nums = [1, 2, 3, 4, 5]\n",
    "\n",
    "del (nums[3:])\n",
    "\n",
    "print (nums)"
   ]
  },
  {
   "cell_type": "markdown",
   "metadata": {},
   "source": [
    "## 050 join\n",
    "종목 코드 리스트가 있을 때 이를 하나의 문자열로 구성하라. 종목 코드는 ';'로 구분된다"
   ]
  },
  {
   "cell_type": "code",
   "execution_count": 9,
   "metadata": {},
   "outputs": [
    {
     "name": "stdout",
     "output_type": "stream",
     "text": [
      "000600;034560;003540;039490\n"
     ]
    }
   ],
   "source": [
    "items = ['000600', '034560', '003540', '039490']\n",
    "\n",
    "mystr = ';'.join(items)\n",
    "\n",
    "print (mystr)"
   ]
  },
  {
   "cell_type": "code",
   "execution_count": null,
   "metadata": {
    "collapsed": true
   },
   "outputs": [],
   "source": []
  }
 ],
 "metadata": {
  "kernelspec": {
   "display_name": "Python 3",
   "language": "python",
   "name": "python3"
  },
  "language_info": {
   "codemirror_mode": {
    "name": "ipython",
    "version": 3
   },
   "file_extension": ".py",
   "mimetype": "text/x-python",
   "name": "python",
   "nbconvert_exporter": "python",
   "pygments_lexer": "ipython3",
   "version": "3.6.3"
  }
 },
 "nbformat": 4,
 "nbformat_minor": 2
}
