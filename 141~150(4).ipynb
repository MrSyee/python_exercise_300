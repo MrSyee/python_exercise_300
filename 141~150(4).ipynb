{
 "cells": [
  {
   "cell_type": "markdown",
   "metadata": {},
   "source": [
    "# 04. 함수와 모듈\n",
    "----------------------------------------------------------------------"
   ]
  },
  {
   "cell_type": "markdown",
   "metadata": {},
   "source": [
    "## 141 문자열 출력 - 슬라이싱\n",
    "한 라인의 텍스트를 입력 받아 \"5 (가로) x n (세로)\"로 텍스트를 변환하는 print5xn(string) 함수를 작성하여라."
   ]
  },
  {
   "cell_type": "code",
   "execution_count": 1,
   "metadata": {},
   "outputs": [
    {
     "name": "stdout",
     "output_type": "stream",
     "text": [
      "아이엠어보\n",
      "이유알어걸\n"
     ]
    }
   ],
   "source": [
    "def print5xn(string):\n",
    "    start = 0\n",
    "    finish = 5\n",
    "    while(True):\n",
    "        # [a:b] 로 슬라이싱하면 뒤에 개수가 모자라도 에러가 나지않음\n",
    "        print (string[start:finish])\n",
    "        if finish >= len(string):\n",
    "            break\n",
    "        start += 5 \n",
    "        finish += 5\n",
    "        \n",
    "        \n",
    "print5xn('아이엠어보이유알어걸')"
   ]
  },
  {
   "cell_type": "markdown",
   "metadata": {},
   "source": [
    "## 142 사칙 연산\n",
    "월급을 계산하는 calc_monthly_salary(annual_salary) 함수를 작성하여라.\n",
    "> 회사는 연봉을 12개월로 분할 지급하며, 이 때 100원 미만은 지역사회에 기부한다."
   ]
  },
  {
   "cell_type": "code",
   "execution_count": 2,
   "metadata": {},
   "outputs": [
    {
     "name": "stdout",
     "output_type": "stream",
     "text": [
      "1083300\n"
     ]
    }
   ],
   "source": [
    "def calc_monthly_salary(annual_salary):\n",
    "    return int(int((annual_salary/12)/100)*100)\n",
    "\n",
    "print (calc_monthly_salary(13000000))"
   ]
  },
  {
   "cell_type": "markdown",
   "metadata": {},
   "source": [
    "## 143 로또 번호 생성기\n",
    "로또 번호 생성기 프로그램을 개발하려고 한다. random 모듈의 randint를 사용하여 6개의 로또 번호를 생성하는 lotto_number() 함수를 작성하라. 숫자는 1~45까지 존재하며 중복된 숫자는 나올 수 없다."
   ]
  },
  {
   "cell_type": "code",
   "execution_count": 3,
   "metadata": {},
   "outputs": [
    {
     "name": "stdout",
     "output_type": "stream",
     "text": [
      "[6, 2, 20, 18, 35, 17]\n"
     ]
    }
   ],
   "source": [
    "import random\n",
    "\n",
    "def lotto_number():\n",
    "    num_list = []\n",
    "    while len(num_list)<6:\n",
    "        num = random.randint(1,45) # 1~45\n",
    "        if num not in num_list:\n",
    "            num_list.append(num)\n",
    "    return num_list\n",
    "            \n",
    "print (lotto_number())"
   ]
  },
  {
   "cell_type": "markdown",
   "metadata": {},
   "source": [
    "## 144 가변인자\n",
    "입력된 문자열들을 연결한 후, 화면에 출력하는 print_my_string (string1, string2, ...) 함수를 작성하여라. 단, 입력 문자열은 여러개 입력될 수 있다."
   ]
  },
  {
   "cell_type": "code",
   "execution_count": 4,
   "metadata": {},
   "outputs": [
    {
     "name": "stdout",
     "output_type": "stream",
     "text": [
      "안녕내사랑그대여\n",
      "영원토록사랑할게요\n"
     ]
    }
   ],
   "source": [
    "def print_my_string(*args):\n",
    "    string = ''\n",
    "    for i in args:\n",
    "        string += i\n",
    "    return string\n",
    "\n",
    "print (print_my_string('안녕', '내사랑', '그대여'))\n",
    "print (print_my_string(\"영원토록\", \"사랑할게요\"))\n",
    "    "
   ]
  },
  {
   "cell_type": "code",
   "execution_count": null,
   "metadata": {
    "collapsed": true
   },
   "outputs": [],
   "source": []
  }
 ],
 "metadata": {
  "kernelspec": {
   "display_name": "Python 3",
   "language": "python",
   "name": "python3"
  },
  "language_info": {
   "codemirror_mode": {
    "name": "ipython",
    "version": 3
   },
   "file_extension": ".py",
   "mimetype": "text/x-python",
   "name": "python",
   "nbconvert_exporter": "python",
   "pygments_lexer": "ipython3",
   "version": "3.6.3"
  }
 },
 "nbformat": 4,
 "nbformat_minor": 2
}
