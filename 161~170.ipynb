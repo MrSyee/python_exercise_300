{
 "cells": [
  {
   "cell_type": "markdown",
   "metadata": {},
   "source": [
    "# 05. 파이썬 클래스\n",
    "----------------------------------------------------------------------"
   ]
  },
  {
   "cell_type": "markdown",
   "metadata": {},
   "source": [
    "## 161 클래스와 인스턴스\n",
    "클래스와 인스턴스의 차이점에 대해서 서술하라."
   ]
  },
  {
   "cell_type": "code",
   "execution_count": 1,
   "metadata": {
    "collapsed": true
   },
   "outputs": [],
   "source": [
    "# 클래스는 객체를 만들기 위한 일종의 설계도이다.\n",
    "# 클래스를 이용해 실제로 만들어진 객체를 인스턴스라고 한다."
   ]
  },
  {
   "cell_type": "markdown",
   "metadata": {},
   "source": [
    "## 162 클래스 정의\n",
    "비어있는 사람 (Human) 클래스를 \"정의\" 하라."
   ]
  },
  {
   "cell_type": "code",
   "execution_count": 2,
   "metadata": {
    "collapsed": true
   },
   "outputs": [],
   "source": [
    "class Human:\n",
    "    pass"
   ]
  },
  {
   "cell_type": "markdown",
   "metadata": {},
   "source": [
    "## 163 인스턴스 생성\n",
    "사람 (Human) 클래스를 \"생성\" 하고 areum 변수에 바인딩하여라."
   ]
  },
  {
   "cell_type": "code",
   "execution_count": 3,
   "metadata": {
    "collapsed": true
   },
   "outputs": [],
   "source": [
    "areum = Human()"
   ]
  },
  {
   "cell_type": "markdown",
   "metadata": {},
   "source": [
    "## 164 클래스 생성자-1\n",
    "사람 (Human) 클래스에 \"응애응애\"를 출력하는 생성자를 추가하여라."
   ]
  },
  {
   "cell_type": "code",
   "execution_count": 4,
   "metadata": {},
   "outputs": [
    {
     "name": "stdout",
     "output_type": "stream",
     "text": [
      "응애응애\n"
     ]
    }
   ],
   "source": [
    "class Human:\n",
    "    def __init__(self):\n",
    "        print ('응애응애')\n",
    "        \n",
    "areum = Human()"
   ]
  },
  {
   "cell_type": "markdown",
   "metadata": {},
   "source": [
    "## 165 클래스 생성자-2\n",
    "사람 (Human) 클래스에 (이름, 나이, 성별)을 받는 생성자를 추가하여라."
   ]
  },
  {
   "cell_type": "code",
   "execution_count": 5,
   "metadata": {},
   "outputs": [
    {
     "name": "stdout",
     "output_type": "stream",
     "text": [
      "아름, 25, 여자\n"
     ]
    }
   ],
   "source": [
    "class Human:\n",
    "    def __init__(self, name, age, gender):\n",
    "        self.name = name\n",
    "        self.age = age\n",
    "        self.gender = gender\n",
    "        print (\"{}, {}, {}\".format(self.name, self.age, self.gender))\n",
    "        \n",
    "areum = Human(\"아름\", 25, \"여자\")"
   ]
  },
  {
   "cell_type": "markdown",
   "metadata": {},
   "source": [
    "## 166 클래스\n",
    "165에서 생성한 인스턴스의 이름, 나이, 성별을 출력하여라. 인스턴스 변수에 접근하여 값을 얻어 오세요."
   ]
  },
  {
   "cell_type": "code",
   "execution_count": 6,
   "metadata": {},
   "outputs": [
    {
     "name": "stdout",
     "output_type": "stream",
     "text": [
      "아름\n",
      "25\n",
      "여자\n"
     ]
    }
   ],
   "source": [
    "print (areum.name)\n",
    "print (areum.age)\n",
    "print (areum.gender)"
   ]
  },
  {
   "cell_type": "markdown",
   "metadata": {},
   "source": [
    "## 167 클래스 메소드 - 1\n",
    "사람 (Human) 클래스에서 이름, 나이, 성별을 출력하는 who() 메소드를 구현하여라."
   ]
  },
  {
   "cell_type": "code",
   "execution_count": 7,
   "metadata": {},
   "outputs": [
    {
     "name": "stdout",
     "output_type": "stream",
     "text": [
      "조아름, 25, 여자\n"
     ]
    }
   ],
   "source": [
    "class Human:\n",
    "    def __init__(self, name, age, gender):\n",
    "        self.name = name\n",
    "        self.age = age\n",
    "        self.gender = gender\n",
    "        \n",
    "    def who(self):\n",
    "        print (\"{}, {}, {}\".format(self.name, self.age, self.gender))\n",
    "    \n",
    "areum = Human('조아름', 25, '여자')\n",
    "areum.who()"
   ]
  },
  {
   "cell_type": "markdown",
   "metadata": {},
   "source": [
    "## 168 클래스 메소드 - 2\n",
    "사람 (Human) 클래스에 (이름, 나이, 성별)을 받는 setInfo 메소드를 추가하여라."
   ]
  },
  {
   "cell_type": "code",
   "execution_count": 8,
   "metadata": {},
   "outputs": [
    {
     "name": "stdout",
     "output_type": "stream",
     "text": [
      "조아름, 25, 여자\n"
     ]
    }
   ],
   "source": [
    "class Human:\n",
    "    def setInfo(self, name, age, gender):\n",
    "        self.name = name\n",
    "        self.age = age\n",
    "        self.gender = gender\n",
    "    def who(self):\n",
    "        print (\"{}, {}, {}\".format(self.name, self.age, self.gender))\n",
    "        \n",
    "areum = Human()\n",
    "areum.setInfo('조아름', 25, '여자')\n",
    "areum.who()"
   ]
  },
  {
   "cell_type": "markdown",
   "metadata": {},
   "source": [
    "## 169 클래스 소멸자\n",
    "사람 (human) 클래스에 \"나의 죽음을 알리지 말라\"를 출력하는 소멸자를 추가하여라."
   ]
  },
  {
   "cell_type": "code",
   "execution_count": 9,
   "metadata": {},
   "outputs": [
    {
     "name": "stdout",
     "output_type": "stream",
     "text": [
      "나의 죽음을 알리지 말라\n"
     ]
    }
   ],
   "source": [
    "class Human:\n",
    "    def __del__(self):\n",
    "        print (\"나의 죽음을 알리지 말라\")\n",
    "        \n",
    "areum = Human()\n",
    "del areum"
   ]
  },
  {
   "cell_type": "markdown",
   "metadata": {},
   "source": [
    "## 170 에러의 원인\n",
    "아래와 같은 에러가 발생한 원인에 대해 설명하여라.\n",
    "\n",
    "> OMG의 method인 print()의 매개변수로 self가 들어가야한다."
   ]
  },
  {
   "cell_type": "code",
   "execution_count": 10,
   "metadata": {},
   "outputs": [
    {
     "name": "stdout",
     "output_type": "stream",
     "text": [
      "Oh my god\n"
     ]
    }
   ],
   "source": [
    "class OMG : \n",
    "    def print(self) : # <- def print():\n",
    "        print(\"Oh my god\")\n",
    "        \n",
    "myStock = OMG()\n",
    "myStock.print()"
   ]
  },
  {
   "cell_type": "code",
   "execution_count": null,
   "metadata": {
    "collapsed": true
   },
   "outputs": [],
   "source": []
  }
 ],
 "metadata": {
  "kernelspec": {
   "display_name": "Python 3",
   "language": "python",
   "name": "python3"
  },
  "language_info": {
   "codemirror_mode": {
    "name": "ipython",
    "version": 3
   },
   "file_extension": ".py",
   "mimetype": "text/x-python",
   "name": "python",
   "nbconvert_exporter": "python",
   "pygments_lexer": "ipython3",
   "version": "3.6.3"
  }
 },
 "nbformat": 4,
 "nbformat_minor": 2
}
