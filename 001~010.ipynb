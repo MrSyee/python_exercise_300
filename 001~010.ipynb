{
 "cells": [
  {
   "cell_type": "markdown",
   "metadata": {},
   "source": [
    "# 01. 변수와 문자열\n",
    "----------------------------------------------------------------------"
   ]
  },
  {
   "cell_type": "markdown",
   "metadata": {},
   "source": [
    "## 001 문자열 출력하기\n",
    "\n",
    "화면에 \"Hello World\"를 출력하라."
   ]
  },
  {
   "cell_type": "code",
   "execution_count": 1,
   "metadata": {},
   "outputs": [
    {
     "name": "stdout",
     "output_type": "stream",
     "text": [
      "Hello World\n"
     ]
    }
   ],
   "source": [
    "print (\"Hello World\")"
   ]
  },
  {
   "cell_type": "markdown",
   "metadata": {},
   "source": [
    "## 002 문자열 출력하기\n",
    "\n",
    "화면에 \"Mary's cosmetics\"를 출력하라. (중간에 '가 있음에 주의.)"
   ]
  },
  {
   "cell_type": "code",
   "execution_count": 3,
   "metadata": {},
   "outputs": [
    {
     "name": "stdout",
     "output_type": "stream",
     "text": [
      "Mary's cosmetics\n"
     ]
    }
   ],
   "source": [
    "print (\"Mary's cosmetics\")"
   ]
  },
  {
   "cell_type": "markdown",
   "metadata": {},
   "source": [
    "## 003 포맷 연산자\n",
    "\n",
    "print 함수를 사용하여 3.141592의 값을 출력하라. 단, 출력된 값이 소수점 아래로 두 자리 숫자까지만 표시되도록 하라."
   ]
  },
  {
   "cell_type": "code",
   "execution_count": 9,
   "metadata": {},
   "outputs": [
    {
     "name": "stdout",
     "output_type": "stream",
     "text": [
      "new : 3.14\n",
      "old : 3.14\n"
     ]
    }
   ],
   "source": [
    "print ( \"new : {0:.2f}\".format(3.141592) )\n",
    "\n",
    "print (\"old : %.2f\" % 3.141592)"
   ]
  },
  {
   "cell_type": "markdown",
   "metadata": {},
   "source": [
    "## 004 사용자 입력\n",
    "\n",
    "사용자로부터 두 개의 숫자를 입력받은 후 두 개의 숫자를 더한 값을 출력하는 프로그램을 작성하라."
   ]
  },
  {
   "cell_type": "code",
   "execution_count": 19,
   "metadata": {},
   "outputs": [
    {
     "name": "stdout",
     "output_type": "stream",
     "text": [
      "first : 4\n",
      "second : 5\n",
      "sum : 9\n"
     ]
    }
   ],
   "source": [
    "x = int(input(\"first : \"))\n",
    "y = int(input(\"second : \"))\n",
    "\n",
    "print (\"sum : {0}\".format(x+y))"
   ]
  },
  {
   "cell_type": "markdown",
   "metadata": {},
   "source": [
    "## 005 사용자 입력2\n",
    "\n",
    "사용자로부터 출력하고자 하는 문자열과 반복 횟수를 입력 받은 후 문자열을 반복 횟수만큼 출력하는 프로그램을 작성하라."
   ]
  },
  {
   "cell_type": "code",
   "execution_count": 23,
   "metadata": {},
   "outputs": [
    {
     "name": "stdout",
     "output_type": "stream",
     "text": [
      "문자열 : hello\n",
      "반복횟수 : 4\n",
      "hellohellohellohello\n"
     ]
    }
   ],
   "source": [
    "string = input(\"문자열 : \")\n",
    "n = int(input(\"반복횟수 : \"))\n",
    "output = \"\"\n",
    "for _ in range(n):\n",
    "    output = output+string\n",
    "print (output)"
   ]
  },
  {
   "cell_type": "markdown",
   "metadata": {},
   "source": [
    "## 006 형 변환\n",
    "문자열 '720'를 정수형으로 변환하라. 정수 100을 문자열 '100'으로 변환하라."
   ]
  },
  {
   "cell_type": "code",
   "execution_count": 26,
   "metadata": {},
   "outputs": [
    {
     "name": "stdout",
     "output_type": "stream",
     "text": [
      "720, 100\n"
     ]
    }
   ],
   "source": [
    "s1 = '720'\n",
    "int1 = int(s1)\n",
    "s2 = '100'\n",
    "int2 = int(s2)\n",
    "\n",
    "print (\"%d, %d\" % (int1, int2))"
   ]
  },
  {
   "cell_type": "markdown",
   "metadata": {},
   "source": [
    "## 007 화면 출력\n",
    "다음 코드를 수정하여 줄바꿈이 없이 출력되도록 하라. (힌트: end='')"
   ]
  },
  {
   "cell_type": "code",
   "execution_count": 28,
   "metadata": {},
   "outputs": [
    {
     "name": "stdout",
     "output_type": "stream",
     "text": [
      "firstsecond\n"
     ]
    }
   ],
   "source": [
    "print (\"first\", end=\"\")\n",
    "print (\"second\")"
   ]
  },
  {
   "cell_type": "markdown",
   "metadata": {},
   "source": [
    "## 008 기본 자료형\n",
    "임의의 정수형(Integer), 문자열(String), 실수형(Float)과 그것의 타입을 출력하는 프로그램을 작성하라."
   ]
  },
  {
   "cell_type": "code",
   "execution_count": 29,
   "metadata": {},
   "outputs": [
    {
     "name": "stdout",
     "output_type": "stream",
     "text": [
      "<class 'int'>\n",
      "<class 'str'>\n",
      "<class 'float'>\n"
     ]
    }
   ],
   "source": [
    "print (type(111))\n",
    "print (type(\"hello\"))\n",
    "print (type(3.14))"
   ]
  },
  {
   "cell_type": "markdown",
   "metadata": {},
   "source": [
    "## 009 사칙 연산\n",
    "사용자로부터 두 개의 숫자를 입력 받은 후 두 숫자의 덧셈(+), 뺄셈(-), 곱셈(*), 나눗셈(/) 결괏값을 출력하라."
   ]
  },
  {
   "cell_type": "code",
   "execution_count": 30,
   "metadata": {},
   "outputs": [
    {
     "name": "stdout",
     "output_type": "stream",
     "text": [
      "first number : 20\n",
      "second number : 4\n",
      "add : 24\n",
      "sub : 16\n",
      "mul : 80\n",
      "div : 5.0\n"
     ]
    }
   ],
   "source": [
    "x = int(input(\"first number : \"))\n",
    "y = int(input(\"second number : \"))\n",
    "print (\"add : {0}\".format(x+y))\n",
    "print (\"sub : {0}\".format(x-y))\n",
    "print (\"mul : {0}\".format(x*y))\n",
    "print (\"div : {0}\".format(x/y))"
   ]
  },
  {
   "cell_type": "markdown",
   "metadata": {},
   "source": [
    "## 010 거듭제곱\n",
    "사용자로부터 밑과 지수를 입력 받은 후 거듭제곱 값을 출력하라."
   ]
  },
  {
   "cell_type": "code",
   "execution_count": null,
   "metadata": {},
   "outputs": [],
   "source": [
    "x = int(input(\"밑 : \"))\n",
    "y = int(input(\"지수 : \"))\n",
    "print (\"{0}^{1} = {2}\".format(x,))"
   ]
  }
 ],
 "metadata": {
  "kernelspec": {
   "display_name": "Python 3",
   "language": "python",
   "name": "python3"
  },
  "language_info": {
   "codemirror_mode": {
    "name": "ipython",
    "version": 3
   },
   "file_extension": ".py",
   "mimetype": "text/x-python",
   "name": "python",
   "nbconvert_exporter": "python",
   "pygments_lexer": "ipython3",
   "version": "3.6.0"
  }
 },
 "nbformat": 4,
 "nbformat_minor": 2
}
