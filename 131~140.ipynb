{
 "cells": [
  {
   "cell_type": "markdown",
   "metadata": {},
   "source": [
    "# 04. 함수와 모듈\n",
    "----------------------------------------------------------------------"
   ]
  },
  {
   "cell_type": "markdown",
   "metadata": {},
   "source": [
    "## 131 주민등록번호 검출기\n",
    "사용자로부터 주민 등록 번호를 입력 받은 후 성별을 출력하는 프로그램을 작성하라. 뒷 자리 7자리 중 첫 번째 숫자가 1 또는 3이면 남자, 2 또는 4이면 여자이다."
   ]
  },
  {
   "cell_type": "code",
   "execution_count": 1,
   "metadata": {},
   "outputs": [
    {
     "name": "stdout",
     "output_type": "stream",
     "text": [
      "주민등록번호 입력 : 930727-1010101\n",
      "남자입니다.\n"
     ]
    }
   ],
   "source": [
    "resi_id = input('주민등록번호 입력 : ')\n",
    "\n",
    "def what_gender(id):\n",
    "    flag = id.split('-')[1][0]\n",
    "    if flag == '1' or flag == '3':\n",
    "        print ('남자입니다.')\n",
    "    else:\n",
    "        print ('여자입니다.')\n",
    "    \n",
    "what_gender(resi_id)"
   ]
  },
  {
   "cell_type": "markdown",
   "metadata": {},
   "source": [
    "## 132 통신사 알아내기\n",
    "사용자로부터 휴대전화 번호를 입력 받은 후 통신사를 출력하는 프로그램을 작성하라."
   ]
  },
  {
   "cell_type": "code",
   "execution_count": 2,
   "metadata": {},
   "outputs": [
    {
     "name": "stdout",
     "output_type": "stream",
     "text": [
      "휴대전화 번호 입력 :011-1231-1234\n",
      "당신은 SKT 사용자입니다.\n"
     ]
    }
   ],
   "source": [
    "hp = input('휴대전화 번호 입력 :')\n",
    "\n",
    "def what_service(hp):\n",
    "    flag = hp.split('-')[0]\n",
    "    if flag == '011':\n",
    "        service = 'SKT'\n",
    "    elif flag == '016':\n",
    "        service = 'KT'\n",
    "    elif flag == '019':\n",
    "        service = 'LGT'\n",
    "    elif flag == '010':\n",
    "        service = '알수없음'\n",
    "    \n",
    "    return service\n",
    "\n",
    "print ('당신은 {} 사용자입니다.'.format(what_service(hp)))"
   ]
  },
  {
   "cell_type": "markdown",
   "metadata": {},
   "source": [
    "## 133 문자열 역순\n",
    "사용자로부터 입력 받은 문자열에 대해 역순으로 된 문자열을 리턴하는 함수를 구현하라."
   ]
  },
  {
   "cell_type": "code",
   "execution_count": 3,
   "metadata": {},
   "outputs": [
    {
     "name": "stdout",
     "output_type": "stream",
     "text": [
      "문자열 입력 :python\n",
      "nohtyp\n"
     ]
    }
   ],
   "source": [
    "string = input('문자열 입력 :')\n",
    "\n",
    "def reverse_str(string):\n",
    "    print (string[::-1])\n",
    "    \n",
    "reverse_str(string)"
   ]
  },
  {
   "cell_type": "markdown",
   "metadata": {},
   "source": [
    "## 134 숫자 증가시키기\n",
    "다음 코드를 실행했을 때 num 값이 증가되지 않은 이유를 설명하라.\n",
    "\n",
    "> 함수 안의 num은 지역변수이므로 함수 밖의 num에게 영향을 주지않는다. return을 해야한다.\n",
    "\n",
    "> 참조 : http://sharebook.kr/display/PL/131+~+140"
   ]
  },
  {
   "cell_type": "code",
   "execution_count": 4,
   "metadata": {},
   "outputs": [
    {
     "name": "stdout",
     "output_type": "stream",
     "text": [
      "4\n"
     ]
    }
   ],
   "source": [
    "num = 3\n",
    "def increase_num(num):\n",
    "    num += 1\n",
    "    return num\n",
    "    \n",
    "num = increase_num(num)\n",
    "print (num)"
   ]
  },
  {
   "cell_type": "markdown",
   "metadata": {},
   "source": [
    "## 135 리스트 수정하기\n",
    "\n",
    "다음 코드를 실행해보고 mylist가 수정된 이유에 대해 설명하라.\n",
    "> 함수 내/외부에서 myList 변수들은 동일한 주소를 가리키고 있고, myList[0]의 값이 바뀌면 가리키는 주소가 바뀌고 바뀐 주소를 myList가 가리키는 주소에 저장한다. 따라서 함수 외부에서도 바뀐 값을 가리키게 된다.\n",
    "\n",
    "> 참조 : http://sharebook.kr/display/PL/131+~+140"
   ]
  },
  {
   "cell_type": "code",
   "execution_count": 5,
   "metadata": {},
   "outputs": [
    {
     "name": "stdout",
     "output_type": "stream",
     "text": [
      "[100, 1, 2]\n"
     ]
    }
   ],
   "source": [
    "mylist = [0, 1, 2]\n",
    "def modify_list(mylist):\n",
    "    mylist[0] = 100\n",
    "modify_list(mylist)\n",
    "print (mylist)"
   ]
  },
  {
   "cell_type": "markdown",
   "metadata": {},
   "source": [
    "## 136 문자열 합치기\n",
    "두 개의 문자열을 입력 받은 후 두 문자열 사이에 공백을 추가한 후 합쳐 새로운 문자열을 생성하는 함수를 작성하라."
   ]
  },
  {
   "cell_type": "code",
   "execution_count": 7,
   "metadata": {},
   "outputs": [
    {
     "name": "stdout",
     "output_type": "stream",
     "text": [
      "문자열 1 : a\n",
      "문자열 2 : bcd\n",
      "a bcd\n"
     ]
    }
   ],
   "source": [
    "s1 = input(\"문자열 1 : \")\n",
    "s2 = input(\"문자열 2 : \")\n",
    "\n",
    "def add_str(s1, s2):\n",
    "    return s1+' '+s2\n",
    "    \n",
    "print (add_str(s1, s2))"
   ]
  },
  {
   "cell_type": "markdown",
   "metadata": {},
   "source": [
    "## 137 zip 내장 함수\n",
    "파이썬 zip 내장 함수는 다음과 같이 동일한 원소를 갖는 두 개의 시퀀스 자료형을 하나로 묶어준다."
   ]
  },
  {
   "cell_type": "code",
   "execution_count": 8,
   "metadata": {},
   "outputs": [
    {
     "name": "stdout",
     "output_type": "stream",
     "text": [
      "최저가격: 2500, 물품 : soap\n",
      "최고가격: 20000, 물품 : apple\n"
     ]
    }
   ],
   "source": [
    "# I can't use zip..\n",
    "\n",
    "receipt = {'bread': 9900, 'fish': 15000, 'shampoo': 8000, 'soap': 2500, 'apple': 20000, 'banana': 3700}\n",
    "\n",
    "min_item = [min(receipt.values()), list(receipt.keys())[list(receipt.values()).index(min(receipt.values()))]]\n",
    "max_item = [max(receipt.values()), list(receipt.keys())[list(receipt.values()).index(max(receipt.values()))]]\n",
    "\n",
    "print ('최저가격: {}, 물품 : {}'.format(min_item[0], min_item[1]))\n",
    "print ('최고가격: {}, 물품 : {}'.format(max_item[0], max_item[1]))"
   ]
  },
  {
   "cell_type": "markdown",
   "metadata": {},
   "source": [
    "## 138 짝수 고르기\n",
    "함수의 인자로 리스트를 입력 받은 후 해당 리스트에서 짝수만 리스트로 구성한 후 이를 리턴하는 pickup_even 함수를 구현하라."
   ]
  },
  {
   "cell_type": "code",
   "execution_count": 9,
   "metadata": {},
   "outputs": [
    {
     "name": "stdout",
     "output_type": "stream",
     "text": [
      "[2, 4]\n",
      "[6, 4, 2, 8]\n"
     ]
    }
   ],
   "source": [
    "def pickup_even(items):\n",
    "    even_item = []\n",
    "    for i, n in enumerate(items):\n",
    "        if n % 2 == 0:\n",
    "            even_item.append(n)\n",
    "    return even_item\n",
    "print (pickup_even([1,2,3,4]))\n",
    "print (pickup_even([6,4,3,2,7,8]))"
   ]
  },
  {
   "cell_type": "markdown",
   "metadata": {},
   "source": [
    "## 139 yield와 generator\n",
    "파이썬 제너레이터란 yield 키워드가 사용된 함수를 의미한다. 아이템을 찾는 코드를 작성할 때 yield를 사용한 제너레이터 함수가 주로 사용된다. 제너레이터를 사용하면 아이템을 찾는 코드와 결과를 저장하는 코드를 분리할 수 있으며, 대량의 데이터를 처리할 때 더 적은 메모리가 사용된다.\n",
    "\n",
    "> yield는 return과 비슷한 역할을 하지만 generator를 return 해준다."
   ]
  },
  {
   "cell_type": "code",
   "execution_count": 10,
   "metadata": {},
   "outputs": [
    {
     "name": "stdout",
     "output_type": "stream",
     "text": [
      "[1, 3]\n"
     ]
    }
   ],
   "source": [
    "def pickup_odd_by_iter(items):\n",
    "    for item in items:\n",
    "        if item % 2 == 1:\n",
    "            yield item\n",
    "\n",
    "result = list(pickup_odd_by_iter([1, 2, 3, 4]))\n",
    "print (result)"
   ]
  },
  {
   "cell_type": "markdown",
   "metadata": {},
   "source": [
    "## 140 순서를 유지하며 데이터 중복 없애기\n",
    "함수의 인자로 리스트를 입력 받아 아이템의 순서는 유지하면서 중복된 데이터를 제거하는 함수를 구현하라."
   ]
  },
  {
   "cell_type": "code",
   "execution_count": 11,
   "metadata": {},
   "outputs": [
    {
     "data": {
      "text/plain": [
       "[1, 2, 3, 4, 6, 7]"
      ]
     },
     "execution_count": 11,
     "metadata": {},
     "output_type": "execute_result"
    }
   ],
   "source": [
    "def remove_duplication(items):\n",
    "    outputs = []\n",
    "    for item in items:\n",
    "        if item not in outputs:\n",
    "            outputs.append(item)\n",
    "    return outputs\n",
    "\n",
    "remove_duplication([1, 1, 2, 3, 4, 4, 6, 6, 7])"
   ]
  },
  {
   "cell_type": "code",
   "execution_count": null,
   "metadata": {
    "collapsed": true
   },
   "outputs": [],
   "source": []
  }
 ],
 "metadata": {
  "kernelspec": {
   "display_name": "Python 3",
   "language": "python",
   "name": "python3"
  },
  "language_info": {
   "codemirror_mode": {
    "name": "ipython",
    "version": 3
   },
   "file_extension": ".py",
   "mimetype": "text/x-python",
   "name": "python",
   "nbconvert_exporter": "python",
   "pygments_lexer": "ipython3",
   "version": "3.6.3"
  }
 },
 "nbformat": 4,
 "nbformat_minor": 2
}
