{
 "cells": [
  {
   "cell_type": "markdown",
   "metadata": {},
   "source": [
    "# 03. 파이썬 제어문\n",
    "----------------------------------------------------------------------"
   ]
  },
  {
   "cell_type": "markdown",
   "metadata": {},
   "source": [
    "## 081 if else 문\n",
    "파일 이름이 리스트에 저장되어 있을 때 확장자가 *.h나 *.c인 파일에 대한 리스트를 생성하라. (힌트: list comprehension, string endswith 메서드)"
   ]
  },
  {
   "cell_type": "code",
   "execution_count": 1,
   "metadata": {},
   "outputs": [
    {
     "name": "stdout",
     "output_type": "stream",
     "text": [
      "['intra.h', 'intra.c']\n"
     ]
    }
   ],
   "source": [
    "filenames = ['intra.h', 'intra.c', 'input.txt', 'run.py']\n",
    "\n",
    "result = [r for r in filenames if r.endswith('.h') or r.endswith('.c')]\n",
    "\n",
    "print (result)"
   ]
  },
  {
   "cell_type": "markdown",
   "metadata": {},
   "source": [
    "## 082 큰수 찾기\n",
    "사용자로부터 두 개의 숫자를 입력 받은 후 큰 숫자를 화면에 출력하라."
   ]
  },
  {
   "cell_type": "code",
   "execution_count": 2,
   "metadata": {},
   "outputs": [
    {
     "name": "stdout",
     "output_type": "stream",
     "text": [
      "num1 : 4\n",
      "num2 : 5\n",
      "5\n"
     ]
    }
   ],
   "source": [
    "n1 = int(input('num1 : '))\n",
    "n2 = int(input('num2 : '))\n",
    "\n",
    "if n1>n2:\n",
    "    print (n1)\n",
    "elif n1<n2:\n",
    "    print (n2)\n",
    "else:\n",
    "    print ('동일')\n"
   ]
  },
  {
   "cell_type": "markdown",
   "metadata": {},
   "source": [
    "## 083 홀수 짝수 출력하기\n",
    "사용자로부터 입력 받은 숫자가 홀수인지 짝수인지 출력하라."
   ]
  },
  {
   "cell_type": "code",
   "execution_count": 3,
   "metadata": {},
   "outputs": [
    {
     "name": "stdout",
     "output_type": "stream",
     "text": [
      "input number : 5\n",
      "odd number\n"
     ]
    }
   ],
   "source": [
    "n = int(input('input number : '))\n",
    "\n",
    "if n % 2 ==0:\n",
    "    print ('even number')\n",
    "else:\n",
    "    print ('odd number')"
   ]
  },
  {
   "cell_type": "markdown",
   "metadata": {},
   "source": [
    "## 084 큰수 찾기\n",
    "사용자로부터 세 개의 숫자를 입력 받은 후 가장 큰 숫자를 출력하라."
   ]
  },
  {
   "cell_type": "code",
   "execution_count": 4,
   "metadata": {},
   "outputs": [
    {
     "name": "stdout",
     "output_type": "stream",
     "text": [
      "input number1 : 5\n",
      "input number2 : 6\n",
      "input number3 : 7\n",
      "7\n"
     ]
    }
   ],
   "source": [
    "n1 = int(input(\"input number1 : \"))\n",
    "n2 = int(input(\"input number2 : \"))\n",
    "n3 = int(input(\"input number3 : \"))\n",
    "\n",
    "big = 0\n",
    "if n1>=n2:\n",
    "    big = n1\n",
    "else:\n",
    "    big = n2\n",
    "    \n",
    "if big>=n3:\n",
    "    print (big)\n",
    "else:\n",
    "    print (n3)"
   ]
  },
  {
   "cell_type": "markdown",
   "metadata": {},
   "source": [
    "## 085 등급 매기기\n",
    "사용자로부터 점수를 입력 받은 후 등급을 출력하라.\n",
    "\n",
    ">(A: 81~100, B: 61~80: C: 41~60: D: 21~40: E: 0~20)"
   ]
  },
  {
   "cell_type": "code",
   "execution_count": 5,
   "metadata": {},
   "outputs": [
    {
     "name": "stdout",
     "output_type": "stream",
     "text": [
      "score : 96\n",
      "A\n"
     ]
    }
   ],
   "source": [
    "score = int(input(\"score : \"))\n",
    "\n",
    "if score >=81:\n",
    "    print ('A')\n",
    "elif score >= 61 and score < 81:\n",
    "    print ('B')\n",
    "elif score >= 41 and score < 61:\n",
    "    print ('C')\n",
    "elif score >= 21 and score < 41:\n",
    "    print ('D')\n",
    "else:\n",
    "    print ('E')"
   ]
  },
  {
   "cell_type": "markdown",
   "metadata": {},
   "source": [
    "## 086 커피 가격\n",
    "커피 가격이 다음과 같을 때 이를 파이썬 딕셔너리로 구성하라. 사용자로부터 커피를 주문 받은 후 해당 음료에 대한 가격을 출력하라."
   ]
  },
  {
   "cell_type": "code",
   "execution_count": 6,
   "metadata": {},
   "outputs": [
    {
     "name": "stdout",
     "output_type": "stream",
     "text": [
      "주문 : Cafe Latte\n",
      "가격 :  3000\n"
     ]
    }
   ],
   "source": [
    "coffe = {'Americano':2500, 'Cafe Latte':3000, 'Cappuccino':3500, 'Cafe Mocha':4000, 'Caramel Macchiato':4000, 'Hot Chocolate':2800, 'Break tea':3000}\n",
    "\n",
    "order = input(\"주문 : \")\n",
    "\n",
    "print (\"가격 : \", coffe.get(order))"
   ]
  },
  {
   "cell_type": "markdown",
   "metadata": {},
   "source": [
    "## 087 환율 계산기\n",
    "사용자로부터 달러, 엔, 유로, 또는 위안 금액을 입력받은 후 이를 원으로 변환하는 프로그램을 작성하라. 각 통화별 환율은 다음과 같다. 사용자는 100 달러, 1000 엔, 13 유로, 100 위안과 같이 금액과 통화명 사이에 공백을 넣어 입력한다고 가정한다."
   ]
  },
  {
   "cell_type": "code",
   "execution_count": 7,
   "metadata": {},
   "outputs": [
    {
     "name": "stdout",
     "output_type": "stream",
     "text": [
      "입력 : 10 유로\n",
      "12680.0\n"
     ]
    }
   ],
   "source": [
    "money = {'달러':1167, '엔':1.096, '유로':1268, '위안': 171}\n",
    "\n",
    "m = input(\"입력 : \")\n",
    "\n",
    "price, unit = m.split(' ')\n",
    "\n",
    "print (float(price)*money.get(unit))\n"
   ]
  },
  {
   "cell_type": "markdown",
   "metadata": {},
   "source": [
    "## 088 환율 계산기2\n",
    "087 문제를 if, elif, else와 같은 제어문을 사용하지 않고 풀어라. (힌트: 딕셔너리를 사용하여 통화별 매매 금액 산출)"
   ]
  },
  {
   "cell_type": "code",
   "execution_count": 8,
   "metadata": {},
   "outputs": [
    {
     "name": "stdout",
     "output_type": "stream",
     "text": [
      "입력 : 100 엔\n",
      "109.60000000000001\n"
     ]
    }
   ],
   "source": [
    "money = {'달러':1167, '엔':1.096, '유로':1268, '위안': 171}\n",
    "\n",
    "m = input(\"입력 : \")\n",
    "\n",
    "price, unit = m.split(' ')\n",
    "\n",
    "print (float(price)*money.get(unit))"
   ]
  },
  {
   "cell_type": "markdown",
   "metadata": {},
   "source": [
    "## 089 칼로리 계산기\n",
    "계단 한 칸당 0.11 칼로리를 한 걸음당 0.033 칼로리가 소비된다. 사용자로부터 오늘 오른 총 계단의 수와 총 걸음수를 입력 받은 후 당일 소비 칼로리를 출력하라."
   ]
  },
  {
   "cell_type": "code",
   "execution_count": 9,
   "metadata": {},
   "outputs": [
    {
     "name": "stdout",
     "output_type": "stream",
     "text": [
      "계단 수 : 97 계단\n",
      "걸음 수 : 9700 보\n",
      "당일 소비 칼로리 : 330.77\n"
     ]
    }
   ],
   "source": [
    "stairs = input(\"계단 수 : \")\n",
    "walks = input(\"걸음 수 : \")\n",
    "\n",
    "s, _ = stairs.split(' ')\n",
    "w, _ = walks.split(' ')\n",
    "\n",
    "print ('당일 소비 칼로리 : {0:.2f}'.format(int(s) * 0.11 + int(w)*0.033))"
   ]
  },
  {
   "cell_type": "markdown",
   "metadata": {},
   "source": [
    "## 090 대문자 소문자 변환\n",
    "파이썬 문자열에는 isupper()와 islower()라는 메서드가 존재한다.\n",
    "```\n",
    ">>> 'KOREA'.isupper()\n",
    "True\n",
    ">>> 'korea'.islower()\n",
    "True\n",
    "```\n",
    "사용자로부터 문자열을 입력 받은 후 대문자는 소문자로 소문자는 대문자로 출력하는 프로그램을 작성하라."
   ]
  },
  {
   "cell_type": "code",
   "execution_count": 10,
   "metadata": {},
   "outputs": [
    {
     "name": "stdout",
     "output_type": "stream",
     "text": [
      "입력 : PYTHON\n",
      "python\n"
     ]
    }
   ],
   "source": [
    "string = input('입력 : ')\n",
    "if string.isupper():\n",
    "    print (string.lower())\n",
    "elif string.islower():\n",
    "    print (string.upper())"
   ]
  },
  {
   "cell_type": "code",
   "execution_count": null,
   "metadata": {
    "collapsed": true
   },
   "outputs": [],
   "source": []
  }
 ],
 "metadata": {
  "kernelspec": {
   "display_name": "Python 3",
   "language": "python",
   "name": "python3"
  },
  "language_info": {
   "codemirror_mode": {
    "name": "ipython",
    "version": 3
   },
   "file_extension": ".py",
   "mimetype": "text/x-python",
   "name": "python",
   "nbconvert_exporter": "python",
   "pygments_lexer": "ipython3",
   "version": "3.6.3"
  }
 },
 "nbformat": 4,
 "nbformat_minor": 2
}
