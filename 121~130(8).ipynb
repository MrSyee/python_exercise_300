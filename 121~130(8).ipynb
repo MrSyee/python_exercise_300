{
 "cells": [
  {
   "cell_type": "markdown",
   "metadata": {},
   "source": [
    "# 04. 함수와 모듈\n",
    "----------------------------------------------------------------------"
   ]
  },
  {
   "cell_type": "markdown",
   "metadata": {},
   "source": [
    "## 121 반올림\n",
    "PI 값이 다음과 같을 때 소수점 아래 셋 째 자리에서 반올림하여 둘 째 자리까지 출력하라. (힌트: round() 내장함수)"
   ]
  },
  {
   "cell_type": "code",
   "execution_count": 1,
   "metadata": {},
   "outputs": [
    {
     "name": "stdout",
     "output_type": "stream",
     "text": [
      "3.14\n"
     ]
    }
   ],
   "source": [
    "PI = 3.141592\n",
    "\n",
    "result = round(PI, 2)\n",
    "\n",
    "print (result)"
   ]
  },
  {
   "cell_type": "markdown",
   "metadata": {},
   "source": [
    "## 122 서식화\n",
    "다음 금액에 대해 천 단위로 ',' 구분자를 넣은 문자열을 출력하라. (힌트: format(val, ',d') 내장 함수)"
   ]
  },
  {
   "cell_type": "code",
   "execution_count": 24,
   "metadata": {},
   "outputs": [
    {
     "name": "stdout",
     "output_type": "stream",
     "text": [
      "17,730,000\n"
     ]
    }
   ],
   "source": [
    "price = 17730000\n",
    "\n",
    "result = '{:,}'.format(price)\n",
    "\n",
    "print (result)"
   ]
  },
  {
   "cell_type": "markdown",
   "metadata": {},
   "source": [
    "## 123 이진수\n",
    "숫자 78에 대해 이진수 '0b1001110'과 '1001110'을 출력하는 프로그램을 작성하라. (힌트: bin(), format() 내장 함수)"
   ]
  },
  {
   "cell_type": "code",
   "execution_count": 32,
   "metadata": {},
   "outputs": [
    {
     "name": "stdout",
     "output_type": "stream",
     "text": [
      "0b1001110\n",
      "1001110\n"
     ]
    }
   ],
   "source": [
    "n = 78\n",
    "\n",
    "result1 = bin(78)\n",
    "\n",
    "print (result1)\n",
    "\n",
    "result2 = format(78,'b')\n",
    "print (result2)"
   ]
  },
  {
   "cell_type": "markdown",
   "metadata": {},
   "source": [
    "## 124 읽기 좋은 이진수 출력\n",
    "숫자를 입력 받아 2진수를 출력하는 print_readable_bin() 함수를 작성하라. 출력된 이진수는 가독성을 위해 네 자리마다  ' __ '  구분자가 삽입되어 있다."
   ]
  },
  {
   "cell_type": "code",
   "execution_count": 34,
   "metadata": {},
   "outputs": [
    {
     "name": "stdout",
     "output_type": "stream",
     "text": [
      "1_0000\n"
     ]
    }
   ],
   "source": [
    "def print_readable_bin(n):\n",
    "    print(format(n,'_b'))\n",
    "\n",
    "print_readable_bin(16)"
   ]
  },
  {
   "cell_type": "markdown",
   "metadata": {},
   "source": [
    "## 125 2의 보수 계산하기\n",
    "-4 ~ 3의 값에 대한 2의 보수는 다음 표와 같다.\n",
    "\n",
    "정숫값과 자리수 값을 입력받아 위와 같은 형태로 2의 보수를 출력하는 프로그램을 작성하라."
   ]
  },
  {
   "cell_type": "code",
   "execution_count": 52,
   "metadata": {},
   "outputs": [
    {
     "name": "stdout",
     "output_type": "stream",
     "text": [
      "101\n"
     ]
    }
   ],
   "source": [
    "def twos_complement(n, m):\n",
    "    print (format(n%8,'b').zfill(m))\n",
    "    \n",
    "twos_complement(-3,3)"
   ]
  },
  {
   "cell_type": "markdown",
   "metadata": {},
   "source": [
    "## 126 서식화 (float)\n",
    "다음 계산 결괏값에 대해 천 단위로 ',' 구분자를 넣어 출력하라. (힌트: format(val, ',f') 내장 함수)"
   ]
  },
  {
   "cell_type": "code",
   "execution_count": 56,
   "metadata": {},
   "outputs": [
    {
     "name": "stdout",
     "output_type": "stream",
     "text": [
      "424,673,280.0\n"
     ]
    }
   ],
   "source": [
    "bandwith = 4096 * 2304 * 1.5 * 30\n",
    "\n",
    "result = format(bandwith, ',')\n",
    "\n",
    "print (result)"
   ]
  },
  {
   "cell_type": "markdown",
   "metadata": {},
   "source": [
    "## 127 파이썬 버전 출력\n",
    "sys 모듈을 사용하여 파이썬 버전을 출력하라."
   ]
  },
  {
   "cell_type": "code",
   "execution_count": 60,
   "metadata": {},
   "outputs": [
    {
     "name": "stdout",
     "output_type": "stream",
     "text": [
      "3.6.3 |Anaconda, Inc.| (default, Oct 13 2017, 12:02:49) \n",
      "[GCC 7.2.0]\n"
     ]
    }
   ],
   "source": [
    "import sys\n",
    "print (sys.version)"
   ]
  },
  {
   "cell_type": "markdown",
   "metadata": {},
   "source": [
    "## 128 대문자 변경\n",
    "소문자를 대문자로 변환해주는 my_upper() 함수를 빌트인 함수를 사용하지 않고 직접 구현해보자. (힌트 : 아스키 코드 값을 참조)"
   ]
  },
  {
   "cell_type": "code",
   "execution_count": 76,
   "metadata": {},
   "outputs": [
    {
     "name": "stdout",
     "output_type": "stream",
     "text": [
      "PYTHON\n"
     ]
    }
   ],
   "source": [
    "def my_upper(string):\n",
    "    upper = ''\n",
    "    for s in string:\n",
    "        if ord(s)>97 and ord(s)<122:\n",
    "            up_s = chr(ord(s)-32)\n",
    "            upper += up_s\n",
    "        else:\n",
    "            upper += s\n",
    "    return upper\n",
    "\n",
    "print (my_upper('Python'))\n"
   ]
  },
  {
   "cell_type": "code",
   "execution_count": null,
   "metadata": {
    "collapsed": true
   },
   "outputs": [],
   "source": []
  }
 ],
 "metadata": {
  "kernelspec": {
   "display_name": "Python 3",
   "language": "python",
   "name": "python3"
  },
  "language_info": {
   "codemirror_mode": {
    "name": "ipython",
    "version": 3
   },
   "file_extension": ".py",
   "mimetype": "text/x-python",
   "name": "python",
   "nbconvert_exporter": "python",
   "pygments_lexer": "ipython3",
   "version": "3.6.3"
  }
 },
 "nbformat": 4,
 "nbformat_minor": 2
}
