{
 "cells": [
  {
   "cell_type": "markdown",
   "metadata": {},
   "source": [
    "# 03. 파이썬 제어문\n",
    "----------------------------------------------------------------------"
   ]
  },
  {
   "cell_type": "markdown",
   "metadata": {},
   "source": [
    "## 111 리스트 인덱스와 아이템 출력\n",
    "다음과 같은 리스트가 있을 때 각 아이템에 대한 인덱스와 아이템을 출력하는 프로그램을 작성하라. (for 문 사용)"
   ]
  },
  {
   "cell_type": "code",
   "execution_count": 1,
   "metadata": {},
   "outputs": [
    {
     "name": "stdout",
     "output_type": "stream",
     "text": [
      "0 5\n",
      "1 4\n",
      "2 3\n",
      "3 2\n",
      "4 1\n"
     ]
    }
   ],
   "source": [
    "mylist = [5, 4, 3, 2, 1]\n",
    "\n",
    "for i, v in enumerate(mylist):\n",
    "    print (i, v)"
   ]
  },
  {
   "cell_type": "markdown",
   "metadata": {},
   "source": [
    "## 112 새로운 리스트 만들기\n",
    "파일 이름(확장자 포함) 저장하고 있는 리스트가 있을 때 확장자를 제거하고 파일 이름만 추가 리스트에 저장하는 프로그램을 작성하라."
   ]
  },
  {
   "cell_type": "code",
   "execution_count": 2,
   "metadata": {},
   "outputs": [
    {
     "name": "stdout",
     "output_type": "stream",
     "text": [
      "['hello', 'ex01', 'ex02', 'ch02', 'intro']\n"
     ]
    }
   ],
   "source": [
    "flist = ['hello.py', 'ex01.py', 'ex02.py', 'ch02.py', 'intro.hwp']\n",
    "\n",
    "new_flist = []\n",
    "\n",
    "for f in flist:\n",
    "    new_flist.append(f.split('.')[0])\n",
    "    \n",
    "print (new_flist)"
   ]
  },
  {
   "cell_type": "markdown",
   "metadata": {},
   "source": [
    "## 113 이중 루프\n",
    "다음과 같이 두 개의 리스트가 있을 때 이를 이중 루프를 사용하여 각 동별로 호수를 출력하는 프로그램을 작성하라. 출력시에는 각 동별로 공 라인을 하나 추가하라."
   ]
  },
  {
   "cell_type": "code",
   "execution_count": 3,
   "metadata": {},
   "outputs": [
    {
     "name": "stdout",
     "output_type": "stream",
     "text": [
      "201동 101호\n",
      "201동 102호\n",
      "201동 201호\n",
      "201동 202호\n",
      "201동 301호\n",
      "201동 302호\n",
      "201동 401호\n",
      "201동 402호\n",
      "\n",
      "\n",
      "202동 101호\n",
      "202동 102호\n",
      "202동 201호\n",
      "202동 202호\n",
      "202동 301호\n",
      "202동 302호\n",
      "202동 401호\n",
      "202동 402호\n",
      "\n",
      "\n",
      "203동 101호\n",
      "203동 102호\n",
      "203동 201호\n",
      "203동 202호\n",
      "203동 301호\n",
      "203동 302호\n",
      "203동 401호\n",
      "203동 402호\n",
      "\n",
      "\n"
     ]
    }
   ],
   "source": [
    "dong = ['201동', '202동', '203동']\n",
    "room = ['101호', '102호', '201호', '202호', '301호', '302호', '401호', '402호']\n",
    "\n",
    "for d in dong:\n",
    "    for r in room:\n",
    "        print (d, r)\n",
    "    print('\\n')"
   ]
  },
  {
   "cell_type": "markdown",
   "metadata": {},
   "source": [
    "## 114 이중 루프\n",
    "이중 루프를 사용하여 다음과 같이 숫자를 출력하는 프로그램을 작성하라."
   ]
  },
  {
   "cell_type": "code",
   "execution_count": 4,
   "metadata": {},
   "outputs": [
    {
     "name": "stdout",
     "output_type": "stream",
     "text": [
      "1  2  3  4  5  \n",
      "\n",
      "2  4  6  8  10  \n",
      "\n",
      "3  6  9  12  15  \n",
      "\n",
      "4  8  12  16  20  \n",
      "\n",
      "5  10  15  20  25  \n",
      "\n"
     ]
    }
   ],
   "source": [
    "def double_loop(n):\n",
    "    for i in range(1,n+1):\n",
    "        for j in range(1, n+1):\n",
    "            print (i*j, ' ', end='')\n",
    "        print ('\\n')\n",
    "            \n",
    "double_loop(5)"
   ]
  },
  {
   "cell_type": "markdown",
   "metadata": {},
   "source": [
    "## 115 리스트 수정\n",
    "숫자가 저장된 리스트에서 음수를 제거하라."
   ]
  },
  {
   "cell_type": "code",
   "execution_count": 5,
   "metadata": {},
   "outputs": [
    {
     "name": "stdout",
     "output_type": "stream",
     "text": [
      "[0, 7, 1, 2, 3]\n"
     ]
    }
   ],
   "source": [
    "num_list = [0, 7, 1, 2, -1, 3, -4, -5]\n",
    "\n",
    "remove_list = [r for r in num_list if r<0]\n",
    "for n in remove_list:\n",
    "    if n < 0:\n",
    "        num_list.remove(n)\n",
    "\n",
    "print (num_list)"
   ]
  },
  {
   "cell_type": "code",
   "execution_count": 6,
   "metadata": {},
   "outputs": [
    {
     "name": "stdout",
     "output_type": "stream",
     "text": [
      "[0, 7, 1, 2, 3]\n"
     ]
    }
   ],
   "source": [
    "# 다른 답\n",
    "num_list = [0, 7, 1, 2, -1, 3, -4, -5]\n",
    "\n",
    "num_list = [i for i in num_list if i>=0]\n",
    "\n",
    "print (num_list)"
   ]
  },
  {
   "cell_type": "markdown",
   "metadata": {},
   "source": [
    "## 116 중간 값 구하기\n",
    "사용자로부터 세 개의 숫자를 입력 받은 후 중간 값을 출력하는 프로그램을 작성하라."
   ]
  },
  {
   "cell_type": "code",
   "execution_count": 7,
   "metadata": {},
   "outputs": [
    {
     "name": "stdout",
     "output_type": "stream",
     "text": [
      "First number :3\n",
      "Second number :2\n",
      "Third number :5\n",
      "The medium value is  3\n"
     ]
    }
   ],
   "source": [
    "first = int(input('First number :'))\n",
    "second = int(input('Second number :'))\n",
    "third = int(input('Third number :'))\n",
    "mid = 0\n",
    "\n",
    "if first > second:\n",
    "    if first < third:\n",
    "        mid = first\n",
    "    else:\n",
    "        if second > third:\n",
    "            mid = second\n",
    "        else:\n",
    "            mid = third\n",
    "else:\n",
    "    if second < third:\n",
    "        mid = second\n",
    "    else:\n",
    "        if first > third:\n",
    "            mid = first\n",
    "        else:\n",
    "            mid = third\n",
    "            \n",
    "print ('The medium value is ', mid)"
   ]
  },
  {
   "cell_type": "code",
   "execution_count": 8,
   "metadata": {},
   "outputs": [
    {
     "name": "stdout",
     "output_type": "stream",
     "text": [
      "First number :5\n",
      "Second number :7\n",
      "Third number :6\n",
      "The medium value is  6\n"
     ]
    }
   ],
   "source": [
    "# 다른 답\n",
    "first = int(input('First number :'))\n",
    "second = int(input('Second number :'))\n",
    "third = int(input('Third number :'))\n",
    "\n",
    "numbers = [first, second, third]\n",
    "print ('The medium value is ', sorted(numbers)[1])"
   ]
  },
  {
   "cell_type": "markdown",
   "metadata": {},
   "source": [
    "## 117 픽셀 값을 밝게 하기\n",
    "사용자로부터 현재 픽셀의 값(0~255)을 입력받은 후 해당 값에 +20을 더한 값을 출력하라. 단 픽셀 값의 범위는 0~255이므로 255를 초과하는 경우 255를 출력하라."
   ]
  },
  {
   "cell_type": "code",
   "execution_count": 10,
   "metadata": {},
   "outputs": [
    {
     "name": "stdout",
     "output_type": "stream",
     "text": [
      "입력  픽셀 값 : 240\n",
      "결과값 :  255\n"
     ]
    }
   ],
   "source": [
    "def brightup(pixel):\n",
    "    pixel += 20\n",
    "    if pixel>255:\n",
    "        pixel = 255\n",
    "    elif pixel < 0:\n",
    "        pixel = 0\n",
    "    return pixel\n",
    "\n",
    "pixel = int(input('입력  픽셀 값 : '))\n",
    "print('결과값 : ', brightup(pixel))    "
   ]
  },
  {
   "cell_type": "markdown",
   "metadata": {},
   "source": [
    "## 118 픽셀 값을 어둡게 하기\n",
    "사용자로부터 현재 픽셀의 값(0~255)을 입력받은 후 해당 값에 -20을 더한 값을 출력하라. 단 픽셀 값의 범위는 0~255이므로 0보다 작은 값이되는 경우 0를 출력하라."
   ]
  },
  {
   "cell_type": "code",
   "execution_count": 11,
   "metadata": {},
   "outputs": [
    {
     "name": "stdout",
     "output_type": "stream",
     "text": [
      "입력  픽셀 값 : 15\n",
      "결과값 :  0\n"
     ]
    }
   ],
   "source": [
    "def brightdown(pixel):\n",
    "    pixel -= 20\n",
    "    if pixel<0:\n",
    "        pixel = 0\n",
    "    elif pixe>255:\n",
    "        pixel = 255\n",
    "    return pixel\n",
    "\n",
    "pixel = int(input('입력  픽셀 값 : '))\n",
    "print('결과값 : ', brightdown(pixel))    "
   ]
  },
  {
   "cell_type": "markdown",
   "metadata": {},
   "source": [
    "## 119 이름이 가장 긴 도시 출력하기\n",
    "다음과 같이 도시 이름을 저장하고 있는 리스트가 있을 때 이름이 가장 긴 도시를 출력하는 프로그램을 작성하라."
   ]
  },
  {
   "cell_type": "code",
   "execution_count": 12,
   "metadata": {},
   "outputs": [
    {
     "name": "stdout",
     "output_type": "stream",
     "text": [
      "suncheon\n"
     ]
    }
   ],
   "source": [
    "def longname(city_list):\n",
    "    city_list = sorted(city_list, key=lambda x : len(x), reverse=True)\n",
    "    length = len(city_list[0])\n",
    "    for c in city_list:\n",
    "        if length == len(c):\n",
    "            print (c)\n",
    "    \n",
    "city = ['seoul', 'daejeon', 'kimpo', 'suncheon', 'pusan']\n",
    "longname(city)"
   ]
  },
  {
   "cell_type": "markdown",
   "metadata": {},
   "source": [
    "## 120 이름이 가장 짧은 도시 출력하기\n",
    "다음과 같이 도시 이름을 저장하고 있는 리스트가 있을 때 이름이 가장 짧은 도시를 출력하는 프로그램을 작성하라. 단, 이름의 수가 같은 경우 모두 출력하라."
   ]
  },
  {
   "cell_type": "code",
   "execution_count": 13,
   "metadata": {},
   "outputs": [
    {
     "name": "stdout",
     "output_type": "stream",
     "text": [
      "seoul\n",
      "kimpo\n",
      "pusan\n"
     ]
    }
   ],
   "source": [
    "def shortname(city_list):\n",
    "    city_list = sorted(city_list, key=lambda x : len(x))\n",
    "    length = len(city_list[0])\n",
    "    for c in city_list:\n",
    "        if length == len(c):\n",
    "            print (c)\n",
    "    \n",
    "city = ['seoul', 'daejeon', 'kimpo', 'suncheon', 'pusan']\n",
    "shortname(city)"
   ]
  },
  {
   "cell_type": "code",
   "execution_count": null,
   "metadata": {
    "collapsed": true
   },
   "outputs": [],
   "source": []
  }
 ],
 "metadata": {
  "kernelspec": {
   "display_name": "Python 3",
   "language": "python",
   "name": "python3"
  },
  "language_info": {
   "codemirror_mode": {
    "name": "ipython",
    "version": 3
   },
   "file_extension": ".py",
   "mimetype": "text/x-python",
   "name": "python",
   "nbconvert_exporter": "python",
   "pygments_lexer": "ipython3",
   "version": "3.6.3"
  }
 },
 "nbformat": 4,
 "nbformat_minor": 2
}
