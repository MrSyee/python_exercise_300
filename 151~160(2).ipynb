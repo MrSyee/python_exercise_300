{
 "cells": [
  {
   "cell_type": "markdown",
   "metadata": {},
   "source": [
    "# 04. 함수와 모듈\n",
    "----------------------------------------------------------------------"
   ]
  },
  {
   "cell_type": "markdown",
   "metadata": {},
   "source": [
    "## 151 얕은 복사\n",
    "리스트 a의 내용을 리스트 b에 복사하여 데이터를 보존하려고 한다. 하지만 아래 코드에서 리스트 a를 수정했을 때, 리스트 b 또한 수정되었다. 리스트 b의 내용이 변경된 이유에 대해서 설명하여라."
   ]
  },
  {
   "cell_type": "code",
   "execution_count": 1,
   "metadata": {},
   "outputs": [
    {
     "name": "stdout",
     "output_type": "stream",
     "text": [
      "[4, 2, 3]\n"
     ]
    }
   ],
   "source": [
    "a = [1, 2, 3]\n",
    "b = a\n",
    "a[0] = 4\n",
    "print (b)\n",
    "\n",
    "# a는 list [1, 2, 3] 객체를 가리키고 있고 b도 마찬가지로 같은 리스트 객체를 가리키게 된다.\n",
    "# 따라서 a가 가리키는 list의 값을 바꾸면 같은 list를 가리키고 있는 b또한 수정된것 처럼 된다.\n",
    "# 이는 list객체가 mutable(변경가능)하기 때문에 발생하는 현상이다."
   ]
  },
  {
   "cell_type": "markdown",
   "metadata": {},
   "source": [
    "## 152 깊은 복사\n",
    "위 예에서 리스트 a의 값을 완전하게 복사하는 코드를 작성하여라."
   ]
  },
  {
   "cell_type": "code",
   "execution_count": 2,
   "metadata": {},
   "outputs": [
    {
     "name": "stdout",
     "output_type": "stream",
     "text": [
      "[4, 2, 3]\n",
      "[1, 2, 3]\n"
     ]
    }
   ],
   "source": [
    "import copy\n",
    "\n",
    "a = [1,2,3]\n",
    "b = copy.deepcopy(a)\n",
    "a[0] = 4\n",
    "print (a)\n",
    "print (b)"
   ]
  },
  {
   "cell_type": "code",
   "execution_count": null,
   "metadata": {
    "collapsed": true
   },
   "outputs": [],
   "source": []
  }
 ],
 "metadata": {
  "kernelspec": {
   "display_name": "Python 3",
   "language": "python",
   "name": "python3"
  },
  "language_info": {
   "codemirror_mode": {
    "name": "ipython",
    "version": 3
   },
   "file_extension": ".py",
   "mimetype": "text/x-python",
   "name": "python",
   "nbconvert_exporter": "python",
   "pygments_lexer": "ipython3",
   "version": "3.6.3"
  }
 },
 "nbformat": 4,
 "nbformat_minor": 2
}
