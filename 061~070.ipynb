{
 "cells": [
  {
   "cell_type": "markdown",
   "metadata": {},
   "source": [
    "# 02. 파이썬 기본 자료구조\n",
    "----------------------------------------------------------------------"
   ]
  },
  {
   "cell_type": "markdown",
   "metadata": {},
   "source": [
    "## 061 비어있는 딕셔너리\n",
    "empty dictionary를 만들어라."
   ]
  },
  {
   "cell_type": "code",
   "execution_count": 1,
   "metadata": {},
   "outputs": [
    {
     "name": "stdout",
     "output_type": "stream",
     "text": [
      "{}\n"
     ]
    }
   ],
   "source": [
    "dic = {}\n",
    "\n",
    "print (dic)"
   ]
  },
  {
   "cell_type": "markdown",
   "metadata": {},
   "source": [
    "## 062 딕셔너리에 값 추가\n",
    "다음 아이스크림 가격을 딕셔너리로 구성하라."
   ]
  },
  {
   "cell_type": "code",
   "execution_count": 2,
   "metadata": {},
   "outputs": [
    {
     "name": "stdout",
     "output_type": "stream",
     "text": [
      "{'Melona': 1000, 'Pollapo': 1200, 'Ppangppare': 1800, 'Tankboy': 1200, 'Hearthunting': 1200, 'Wolrdcorn': 1500}\n"
     ]
    }
   ],
   "source": [
    "icecream = {'Melona':1000,\n",
    "                   'Pollapo':1200,\n",
    "                'Ppangppare':1800,\n",
    "                   'Tankboy':1200,\n",
    "                   'Hearthunting':1200,\n",
    "                'Wolrdcorn':1500}\n",
    "\n",
    "print (icecream)"
   ]
  },
  {
   "cell_type": "markdown",
   "metadata": {},
   "source": [
    "## 063 딕셔너리 인덱싱\n",
    "062에서 만든 딕셔너리를 사용하여 메로나(Melona) 가격을 출력하라."
   ]
  },
  {
   "cell_type": "code",
   "execution_count": 3,
   "metadata": {},
   "outputs": [
    {
     "name": "stdout",
     "output_type": "stream",
     "text": [
      "메로나 가격 : 1000\n"
     ]
    }
   ],
   "source": [
    "print (\"메로나 가격 : {0}\".format(icecream['Melona']))"
   ]
  },
  {
   "cell_type": "markdown",
   "metadata": {},
   "source": [
    "## 065 딕셔너리와 리스트\n",
    "다음 표를 딕셔너리로 구성하라. 아이스크림의 이름은 딕셔너리의 'key'이고 희망 가격과 남은 수량은 리스트로 구성한 후 딕셔너리의 'value'로 사용하라."
   ]
  },
  {
   "cell_type": "code",
   "execution_count": 4,
   "metadata": {},
   "outputs": [
    {
     "name": "stdout",
     "output_type": "stream",
     "text": [
      "{'Melona': [1000, 10], 'Pollapo': [1200, 7], 'Ppangppare': [1800, 6], 'Tankboy': [1200, 5], 'Hearthunting': [1200, 4], 'Wolrdcorn': [1500, 3]}\n"
     ]
    }
   ],
   "source": [
    "icecream = {'Melona':[1000, 10],\n",
    "                  'Pollapo':[1200, 7],\n",
    "                  'Ppangppare':[1800, 6],\n",
    "                  'Tankboy':[1200, 5],\n",
    "                  'Hearthunting':[1200, 4],\n",
    "                  'Wolrdcorn':[1500,3]}\n",
    "\n",
    "print (icecream)"
   ]
  },
  {
   "cell_type": "markdown",
   "metadata": {},
   "source": [
    "## 066 딕셔너리 인덱싱\n",
    "다음 코드에서 에러가 발생한 원인을 설명하라.\n",
    "\n",
    "> dictionary에서 key가 Nugaba인 항목이 없다."
   ]
  },
  {
   "cell_type": "code",
   "execution_count": 5,
   "metadata": {},
   "outputs": [
    {
     "ename": "KeyError",
     "evalue": "'Nugaba'",
     "output_type": "error",
     "traceback": [
      "\u001b[0;31m---------------------------------------------------------------------------\u001b[0m",
      "\u001b[0;31mKeyError\u001b[0m                                  Traceback (most recent call last)",
      "\u001b[0;32m<ipython-input-5-39a789156caa>\u001b[0m in \u001b[0;36m<module>\u001b[0;34m()\u001b[0m\n\u001b[1;32m      1\u001b[0m \u001b[0micecream\u001b[0m \u001b[0;34m=\u001b[0m \u001b[0;34m{\u001b[0m\u001b[0;34m'Tankboy'\u001b[0m\u001b[0;34m:\u001b[0m \u001b[0;36m1200\u001b[0m\u001b[0;34m,\u001b[0m \u001b[0;34m'Pollapo'\u001b[0m\u001b[0;34m:\u001b[0m \u001b[0;36m1200\u001b[0m\u001b[0;34m,\u001b[0m \u001b[0;34m'Ppangppare'\u001b[0m\u001b[0;34m:\u001b[0m \u001b[0;36m1800\u001b[0m\u001b[0;34m,\u001b[0m \u001b[0;34m'Worldcorn'\u001b[0m\u001b[0;34m:\u001b[0m \u001b[0;36m1500\u001b[0m\u001b[0;34m,\u001b[0m \u001b[0;34m'Melona'\u001b[0m\u001b[0;34m:\u001b[0m \u001b[0;36m1000\u001b[0m\u001b[0;34m,\u001b[0m \u001b[0;34m'Heathunting'\u001b[0m\u001b[0;34m:\u001b[0m \u001b[0;36m1200\u001b[0m\u001b[0;34m}\u001b[0m\u001b[0;34m\u001b[0m\u001b[0m\n\u001b[1;32m      2\u001b[0m \u001b[0;34m\u001b[0m\u001b[0m\n\u001b[0;32m----> 3\u001b[0;31m \u001b[0micecream\u001b[0m\u001b[0;34m[\u001b[0m\u001b[0;34m'Nugaba'\u001b[0m\u001b[0;34m]\u001b[0m\u001b[0;34m\u001b[0m\u001b[0m\n\u001b[0m",
      "\u001b[0;31mKeyError\u001b[0m: 'Nugaba'"
     ]
    }
   ],
   "source": [
    "icecream = {'Tankboy': 1200, 'Pollapo': 1200, 'Ppangppare': 1800, 'Worldcorn': 1500, 'Melona': 1000, 'Heathunting': 1200}\n",
    "\n",
    "icecream['Nugaba']"
   ]
  },
  {
   "cell_type": "markdown",
   "metadata": {},
   "source": [
    "## 067 딕셔너리 keys\n",
    "다음의 딕셔너리에서 key 값으로만 구성된 리스트를 생성하라."
   ]
  },
  {
   "cell_type": "code",
   "execution_count": 6,
   "metadata": {},
   "outputs": [
    {
     "name": "stdout",
     "output_type": "stream",
     "text": [
      "['Tankboy', 'Pollapo', 'Ppangppare', 'Worldcorn', 'Melona', 'Heathunting']\n"
     ]
    }
   ],
   "source": [
    "icecream = {'Tankboy': 1200, 'Pollapo': 1200, 'Ppangppare': 1800, 'Worldcorn': 1500, 'Melona': 1000, 'Heathunting': 1200}\n",
    "\n",
    "ice_name = list(icecream.keys())\n",
    "\n",
    "print (ice_name)"
   ]
  },
  {
   "cell_type": "markdown",
   "metadata": {},
   "source": [
    "## 068 딕셔너리 values\n",
    "다음의 딕셔너리에서 values 값으로만 구성된 리스트를 생성하라."
   ]
  },
  {
   "cell_type": "code",
   "execution_count": 7,
   "metadata": {},
   "outputs": [
    {
     "name": "stdout",
     "output_type": "stream",
     "text": [
      "[1200, 1200, 1800, 1500, 1000, 1200]\n"
     ]
    }
   ],
   "source": [
    "ice_value = list(icecream.values())\n",
    "\n",
    "print (ice_value)"
   ]
  },
  {
   "cell_type": "markdown",
   "metadata": {},
   "source": [
    "## 069 딕셔너리 최솟값\n",
    "icecream 딕셔너리에서 최소 가격의 아이스크림 이름을 출력하라."
   ]
  },
  {
   "cell_type": "code",
   "execution_count": 8,
   "metadata": {},
   "outputs": [
    {
     "name": "stdout",
     "output_type": "stream",
     "text": [
      "Melona\n"
     ]
    }
   ],
   "source": [
    "icecream = {'Tankboy': 1200, 'Ppangppare': 1800, 'Worldcorn': 1500, 'Melona': 1000}\n",
    "\n",
    "for name, value in icecream.items():\n",
    "    if value == min(icecream.values()):\n",
    "        print (name)"
   ]
  },
  {
   "cell_type": "markdown",
   "metadata": {},
   "source": [
    "## 070 딕셔너리 update\n",
    "contact1과 contact2 딕셔너리가 있을 때 두 개의 딕셔너리의 key-value 쌍을 모두 포함하는 contact 딕셔너리를 생성하라. (힌트: 딕셔너리 update 메서드 사용)"
   ]
  },
  {
   "cell_type": "code",
   "execution_count": 9,
   "metadata": {},
   "outputs": [
    {
     "name": "stdout",
     "output_type": "stream",
     "text": [
      "{'chusu': '010-3111-2393', 'minsu': '010-3112-9932', 'jaein': '011-1312-2121', 'jongho': '010-8821-1311'}\n"
     ]
    }
   ],
   "source": [
    "contact1 = {'chusu': '010-3111-2393', 'minsu':'010-3112-9932'}\n",
    "contact2 = {'jaein': '011-1312-2121', 'jongho':'010-8821-1311'}\n",
    "\n",
    "contact = {}\n",
    "contact.update(contact1)\n",
    "contact.update(contact2)\n",
    "\n",
    "print (contact)"
   ]
  },
  {
   "cell_type": "code",
   "execution_count": null,
   "metadata": {
    "collapsed": true
   },
   "outputs": [],
   "source": []
  }
 ],
 "metadata": {
  "kernelspec": {
   "display_name": "Python 3",
   "language": "python",
   "name": "python3"
  },
  "language_info": {
   "codemirror_mode": {
    "name": "ipython",
    "version": 3
   },
   "file_extension": ".py",
   "mimetype": "text/x-python",
   "name": "python",
   "nbconvert_exporter": "python",
   "pygments_lexer": "ipython3",
   "version": "3.6.3"
  }
 },
 "nbformat": 4,
 "nbformat_minor": 2
}
