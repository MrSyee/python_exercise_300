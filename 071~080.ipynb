{
 "cells": [
  {
   "cell_type": "markdown",
   "metadata": {},
   "source": [
    "# 02. 파이썬 기본 자료구조\n",
    "----------------------------------------------------------------------"
   ]
  },
  {
   "cell_type": "markdown",
   "metadata": {},
   "source": [
    "## 071 List comprehension\n",
    "List comprehension을 사용하여 nums 리스트에 있는 값들의 제곱값을 가지는 리스트를 생성하고 이를 출력하라."
   ]
  },
  {
   "cell_type": "code",
   "execution_count": 1,
   "metadata": {},
   "outputs": [
    {
     "name": "stdout",
     "output_type": "stream",
     "text": [
      "[1, 4, 9, 16, 25]\n"
     ]
    }
   ],
   "source": [
    "nums = [1, 2, 3, 4, 5]\n",
    "\n",
    "nums2 = [i ** 2 for i in nums]\n",
    "\n",
    "print (nums2)"
   ]
  },
  {
   "cell_type": "markdown",
   "metadata": {},
   "source": [
    "## 072 List comprehension\n",
    "List comprehension을 사용하여 nums 리스트에 있는 값에 대해 홀수와 짝수로 구성된 리스트를 생성하고 이를 출력하라."
   ]
  },
  {
   "cell_type": "code",
   "execution_count": 2,
   "metadata": {},
   "outputs": [
    {
     "name": "stdout",
     "output_type": "stream",
     "text": [
      "even :  [2, 4, 6, 8, 10]\n",
      "odd:  [1, 3, 5, 7, 9]\n"
     ]
    }
   ],
   "source": [
    "nums = [1, 2, 3, 4, 5, 6, 7, 8, 9, 10]\n",
    "\n",
    "even = []\n",
    "odd = []\n",
    "for n in nums:\n",
    "    if n % 2 == 0:\n",
    "        even.append(n)\n",
    "    else:\n",
    "        odd.append(n)\n",
    "        \n",
    "print (\"even : \", even)\n",
    "print (\"odd: \", odd)"
   ]
  },
  {
   "cell_type": "markdown",
   "metadata": {},
   "source": [
    "## 073 List comprehension2\n",
    "files 리스트에 다음과 같은 데이터가 있을 때 이 중 확장자가 *.txt 파일만 리스트로 구성하고 이를 출력하라."
   ]
  },
  {
   "cell_type": "code",
   "execution_count": 3,
   "metadata": {},
   "outputs": [
    {
     "name": "stdout",
     "output_type": "stream",
     "text": [
      "['a.txt', 'b.txt']\n"
     ]
    }
   ],
   "source": [
    "files = ['a.txt', 'b.txt', 'exer.avi', 'sing.mp3', 'ultra.avi']\n",
    "\n",
    "txt_files = [f for f in files if 'txt' in f]\n",
    "\n",
    "print (txt_files)"
   ]
  },
  {
   "cell_type": "code",
   "execution_count": 4,
   "metadata": {},
   "outputs": [
    {
     "name": "stdout",
     "output_type": "stream",
     "text": [
      "['a.txt', 'b.txt']\n"
     ]
    }
   ],
   "source": [
    "# 다른 답\n",
    "files = ['a.txt', 'b.txt', 'exer.avi', 'sing.mp3', 'ultra.avi']\n",
    "\n",
    "txt_files = [f for f in files if f.endswith('txt')]\n",
    "\n",
    "print (txt_files)"
   ]
  },
  {
   "cell_type": "markdown",
   "metadata": {},
   "source": [
    "## 074 Star expression\n",
    "파이썬3에 추가된 star expression은 다음과 같이 데이터를 언패킹하는데 유용하게 사용할 수 있다.\n",
    "\n",
    "다음과 같이 10개의 값이 저장된 scores 리스트가 있을 때, start expression을 사용하여 좌측 8개의 값을 valid_score 변수에 바인딩하여라."
   ]
  },
  {
   "cell_type": "code",
   "execution_count": 5,
   "metadata": {},
   "outputs": [
    {
     "name": "stdout",
     "output_type": "stream",
     "text": [
      "[8.8, 8.9, 8.7, 9.2, 9.3, 9.7, 9.9, 9.5]\n"
     ]
    }
   ],
   "source": [
    "scores = [8.8, 8.9, 8.7, 9.2, 9.3, 9.7, 9.9, 9.5, 7.8, 9.4]\n",
    "\n",
    "*valid_score, a, b = scores\n",
    "\n",
    "print (valid_score)"
   ]
  },
  {
   "cell_type": "code",
   "execution_count": 6,
   "metadata": {},
   "outputs": [
    {
     "name": "stdout",
     "output_type": "stream",
     "text": [
      "[8.8, 8.9, 8.7, 9.2, 9.3, 9.7, 9.9, 9.5]\n"
     ]
    }
   ],
   "source": [
    "# 다른 답\n",
    "scores = [8.8, 8.9, 8.7, 9.2, 9.3, 9.7, 9.9, 9.5, 7.8, 9.4]\n",
    "\n",
    "*valid_score, _, _ = scores\n",
    "\n",
    "print (valid_score)"
   ]
  },
  {
   "cell_type": "markdown",
   "metadata": {},
   "source": [
    "## 075 Star expression2\n",
    "두 개의 값이 저장된 리스트 var와 두 개의 수를 더하는 sum 이라는 함수가 정의되어 있다. sum 함수를 사용하여 var 변수의 합을 출력하여라."
   ]
  },
  {
   "cell_type": "code",
   "execution_count": 7,
   "metadata": {},
   "outputs": [
    {
     "name": "stdout",
     "output_type": "stream",
     "text": [
      "10 11\n",
      "합은  21\n"
     ]
    }
   ],
   "source": [
    "def sum(a, b) :\n",
    "    return a + b\n",
    "\n",
    "var = [10, 11]\n",
    "\n",
    "a, b = var\n",
    "print (a, b)\n",
    "print ('합은 ', sum(a,b))"
   ]
  },
  {
   "cell_type": "code",
   "execution_count": 8,
   "metadata": {},
   "outputs": [
    {
     "name": "stdout",
     "output_type": "stream",
     "text": [
      "10 11\n",
      "21\n"
     ]
    }
   ],
   "source": [
    "# 다른 답\n",
    "def sum(a, b) :\n",
    "    return a + b\n",
    "\n",
    "var = [10, 11]\n",
    "\n",
    "print (*var)\n",
    "print (sum(*var))"
   ]
  },
  {
   "cell_type": "markdown",
   "metadata": {},
   "source": [
    "## 076 List sorting과 slicing\n",
    "nums 리스트에 다음과 같은 데이터가 있을 때 가장 큰 3개의 아이템과 가장 작은 3개의 아이템을 출력하라."
   ]
  },
  {
   "cell_type": "code",
   "execution_count": 9,
   "metadata": {},
   "outputs": [
    {
     "name": "stdout",
     "output_type": "stream",
     "text": [
      "[-27, -11, -1, 2, 7, 8, 9, 10, 20, 21, 21, 37, 56]\n",
      "smallest :  [-27, -11, -1]\n",
      "largest :  [21, 37, 56]\n"
     ]
    }
   ],
   "source": [
    "nums = [-1, 10, 2, 8, 9, 7, -11, 20, 21, 37, 56, 21, -27]\n",
    "\n",
    "nums.sort()\n",
    "print (nums)\n",
    "print (\"smallest : \", nums[:3])\n",
    "print (\"largest : \", nums[-3:])"
   ]
  },
  {
   "cell_type": "code",
   "execution_count": 10,
   "metadata": {},
   "outputs": [
    {
     "name": "stdout",
     "output_type": "stream",
     "text": [
      "[-27, -11, -1, 2, 7, 8, 9, 10, 20, 21, 21, 37, 56]\n",
      "smallest :  [-27, -11, -1]\n",
      "largest :  [21, 37, 56]\n"
     ]
    }
   ],
   "source": [
    "# 다른 답\n",
    "nums = [-1, 10, 2, 8, 9, 7, -11, 20, 21, 37, 56, 21, -27]\n",
    "\n",
    "sorted_num = sorted(nums)\n",
    "print (sorted_num)\n",
    "print(\"smallest : \", sorted_num[:3])\n",
    "print(\"largest : \", sorted_num[-3:])"
   ]
  },
  {
   "cell_type": "markdown",
   "metadata": {},
   "source": [
    "## 077 Set 자료구조\n",
    "items가 다음과 같은 리스트일 때 중복 아이템이 제거된 리스트를 생성하라. (힌트: set 사용)"
   ]
  },
  {
   "cell_type": "code",
   "execution_count": 11,
   "metadata": {},
   "outputs": [
    {
     "name": "stdout",
     "output_type": "stream",
     "text": [
      "{1, 2, 3, 4, 6, 7}\n"
     ]
    }
   ],
   "source": [
    "items = [1, 6, 2, 3, 4, 4, 6, 6, 7, 2, 7]\n",
    "\n",
    "new_items = set(items)\n",
    "\n",
    "print (new_items)"
   ]
  },
  {
   "cell_type": "markdown",
   "metadata": {},
   "source": [
    "## 078 두개의 리스트로부터 딕셔너리 생성\n",
    "date와 end_price라는 두개의 리스트를 daeshin이라는 딕셔너리로 생성하라."
   ]
  },
  {
   "cell_type": "code",
   "execution_count": 12,
   "metadata": {},
   "outputs": [
    {
     "name": "stdout",
     "output_type": "stream",
     "text": [
      "{'09/05': 10500, '09/06': 10300, '09/07': 10100, '09/08': 10800, '09/09': 11000}\n"
     ]
    }
   ],
   "source": [
    "date = ['09/05', '09/06', '09/07', '09/08', '09/09']\n",
    "end_price = [10500, 10300, 10100, 10800, 11000]\n",
    "\n",
    "datesin = dict(zip(date, end_price))\n",
    "\n",
    "print (datesin)"
   ]
  },
  {
   "cell_type": "markdown",
   "metadata": {},
   "source": [
    "## 079 정렬\n",
    "다음과 같이 문자열로 구성된 strs 리스트가 있다. 리스트를 문자열의 길이가 짧은 순으로 정렬하라."
   ]
  },
  {
   "cell_type": "code",
   "execution_count": 13,
   "metadata": {},
   "outputs": [
    {
     "name": "stdout",
     "output_type": "stream",
     "text": [
      "['a', 'for', 'with', 'list', 'example']\n"
     ]
    }
   ],
   "source": [
    "strs = ['for', 'example', 'with', 'a', 'list']\n",
    "\n",
    "new_strs = sorted(strs, key=lambda x:(len(x)))\n",
    "\n",
    "print (new_strs)"
   ]
  },
  {
   "cell_type": "code",
   "execution_count": 14,
   "metadata": {},
   "outputs": [
    {
     "name": "stdout",
     "output_type": "stream",
     "text": [
      "['a', 'for', 'with', 'list', 'example']\n"
     ]
    }
   ],
   "source": [
    "# 다른 답\n",
    "strs = ['for', 'example', 'with', 'a', 'list']\n",
    "\n",
    "new_strs = sorted(strs, key=len)\n",
    "\n",
    "print (new_strs)"
   ]
  },
  {
   "cell_type": "markdown",
   "metadata": {},
   "source": [
    "## 080 리스트와 range\n",
    "range() 함수를 사용하여 0~9까지의 원소를 갖는 리스트를 생성하라."
   ]
  },
  {
   "cell_type": "code",
   "execution_count": 15,
   "metadata": {},
   "outputs": [
    {
     "name": "stdout",
     "output_type": "stream",
     "text": [
      "[0, 1, 2, 3, 4, 5, 6, 7, 8, 9]\n"
     ]
    }
   ],
   "source": [
    "nums= [i for i in range(10)]\n",
    "\n",
    "print (nums)"
   ]
  },
  {
   "cell_type": "code",
   "execution_count": null,
   "metadata": {
    "collapsed": true
   },
   "outputs": [],
   "source": []
  }
 ],
 "metadata": {
  "kernelspec": {
   "display_name": "Python 3",
   "language": "python",
   "name": "python3"
  },
  "language_info": {
   "codemirror_mode": {
    "name": "ipython",
    "version": 3
   },
   "file_extension": ".py",
   "mimetype": "text/x-python",
   "name": "python",
   "nbconvert_exporter": "python",
   "pygments_lexer": "ipython3",
   "version": "3.6.3"
  }
 },
 "nbformat": 4,
 "nbformat_minor": 2
}
