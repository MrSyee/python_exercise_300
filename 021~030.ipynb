{
 "cells": [
  {
   "cell_type": "markdown",
   "metadata": {},
   "source": [
    "# 01. 변수와 문자열\n",
    "----------------------------------------------------------------------"
   ]
  },
  {
   "cell_type": "markdown",
   "metadata": {},
   "source": [
    "## 021 문자열 합치기\n",
    "리스트에 회사 이름이 저장되어 있다. 각 회사 이름이 구분자 \";\"로 연결된 문자열을 생성하라."
   ]
  },
  {
   "cell_type": "code",
   "execution_count": 1,
   "metadata": {},
   "outputs": [
    {
     "data": {
      "text/plain": [
       "'NAVER;KAKAO;SK;SAMSUNG'"
      ]
     },
     "execution_count": 1,
     "metadata": {},
     "output_type": "execute_result"
    }
   ],
   "source": [
    "companies = ['NAVER', 'KAKAO', 'SK', 'SAMSUNG']\n",
    "\n",
    "';'.join(companies)"
   ]
  },
  {
   "cell_type": "markdown",
   "metadata": {},
   "source": [
    "## 022 문자열 나누기\n",
    "여러개의 종목코드가 구분자 \";\"로 연결된 문자열이 있다. 구분자를 기준으로 각 종목 코드를 나누고 이를 파이썬 리스트로 저장하라."
   ]
  },
  {
   "cell_type": "code",
   "execution_count": 2,
   "metadata": {},
   "outputs": [
    {
     "data": {
      "text/plain": [
       "['000660', '060310', '0133340', '095570', '068400', '006840']"
      ]
     },
     "execution_count": 2,
     "metadata": {},
     "output_type": "execute_result"
    }
   ],
   "source": [
    "companies = '000660;060310;0133340;095570;068400;006840'\n",
    "\n",
    "codes = companies.split(';')\n",
    "\n",
    "codes"
   ]
  },
  {
   "cell_type": "markdown",
   "metadata": {},
   "source": [
    "## 023 문자열 잘라내기\n",
    "종목코드에 공백과 줄바꿈 기호가 포함되어 있다. 공백과 잘바꿈 기호를 제거하고 종목코드만을 추출하라."
   ]
  },
  {
   "cell_type": "code",
   "execution_count": 3,
   "metadata": {
    "scrolled": true
   },
   "outputs": [
    {
     "data": {
      "text/plain": [
       "'000660'"
      ]
     },
     "execution_count": 3,
     "metadata": {},
     "output_type": "execute_result"
    }
   ],
   "source": [
    "code = '         000660\\n            '\n",
    "\n",
    "strip_code = code.strip()\n",
    "\n",
    "strip_code"
   ]
  },
  {
   "cell_type": "markdown",
   "metadata": {},
   "source": [
    "## 024 문자열의 마지막 패턴 매칭\n",
    "파일 이름이 다음과 같을 때 확장자가 .py 이면 'python file'를 출력하고 아니면 'unknown extension'을 출력하는 프로그램을 작성하라."
   ]
  },
  {
   "cell_type": "code",
   "execution_count": 4,
   "metadata": {},
   "outputs": [
    {
     "name": "stdout",
     "output_type": "stream",
     "text": [
      "python file\n",
      "unknown extension\n"
     ]
    }
   ],
   "source": [
    "filename = \"run.py\"\n",
    "filename2 = \"readme.txt\"\n",
    "\n",
    "def whatfile(f):\n",
    "    split = f.split('.')\n",
    "    \n",
    "    if (split[1] == 'py'):\n",
    "        print ('python file')\n",
    "    else:\n",
    "        print ('unknown extension')\n",
    "        \n",
    "whatfile(filename)\n",
    "whatfile(filename2)"
   ]
  },
  {
   "cell_type": "code",
   "execution_count": 11,
   "metadata": {},
   "outputs": [
    {
     "name": "stdout",
     "output_type": "stream",
     "text": [
      "python file\n"
     ]
    }
   ],
   "source": [
    "# 다른 답\n",
    "filename = \"run.py\"\n",
    "\n",
    "if filename.endswith('.py'):\n",
    "    print ('python file')\n",
    "else:\n",
    "    print ('unknown extension')"
   ]
  },
  {
   "cell_type": "markdown",
   "metadata": {},
   "source": [
    "## 025 문자열 인덱싱\n",
    "letters가 바인딩하는 문자열에서 첫번째와 세번째 문자를 출력하라."
   ]
  },
  {
   "cell_type": "code",
   "execution_count": 5,
   "metadata": {},
   "outputs": [
    {
     "name": "stdout",
     "output_type": "stream",
     "text": [
      "p\n",
      "t\n"
     ]
    }
   ],
   "source": [
    "letters = \"python\"\n",
    "\n",
    "def first_third(letters):\n",
    "    print (letters[0])\n",
    "    print (letters[2])\n",
    "    \n",
    "first_third(letters)"
   ]
  },
  {
   "cell_type": "markdown",
   "metadata": {},
   "source": [
    "## 026 문자열 변경\n",
    "파이썬 문자열은 변경할 수 없는 객체이다. replace 메서드를 사용하여 'python'을 'Python'으로 변경하라."
   ]
  },
  {
   "cell_type": "code",
   "execution_count": 6,
   "metadata": {},
   "outputs": [
    {
     "name": "stdout",
     "output_type": "stream",
     "text": [
      "Python\n"
     ]
    }
   ],
   "source": [
    "lang = 'python'\n",
    "\n",
    "print (lang.replace('p', 'P'))"
   ]
  },
  {
   "cell_type": "markdown",
   "metadata": {},
   "source": [
    "## 027 문자열 변경2\n",
    "파이썬 문자열은 변경할 수 없는 객체이다. Slicing을 사용하여 'python'을 'Python'으로 변경하라."
   ]
  },
  {
   "cell_type": "code",
   "execution_count": 7,
   "metadata": {},
   "outputs": [
    {
     "name": "stdout",
     "output_type": "stream",
     "text": [
      "Python\n"
     ]
    }
   ],
   "source": [
    "lang = 'python'\n",
    "\n",
    "print ('P'+lang[1:])"
   ]
  },
  {
   "cell_type": "markdown",
   "metadata": {},
   "source": [
    "## 028 문자열 슬라이싱\n",
    "사용자로부터 문자열을 입력받은 후 뒤에서부터 4글자를 출력하라."
   ]
  },
  {
   "cell_type": "code",
   "execution_count": 8,
   "metadata": {},
   "outputs": [
    {
     "name": "stdout",
     "output_type": "stream",
     "text": [
      "문자열 입력 : hello\n",
      "ello\n"
     ]
    }
   ],
   "source": [
    "l = input(\"문자열 입력 : \")\n",
    "\n",
    "print (l[-4:])"
   ]
  },
  {
   "cell_type": "markdown",
   "metadata": {},
   "source": [
    "## 029 도메인 추출\n",
    "사용자로부터 웹 페이지 주소를 입력 받은 후 도메인을 출력하라. 도메인은 .com, .net, .org 만 지원한다. www는 반드시 입력된다."
   ]
  },
  {
   "cell_type": "code",
   "execution_count": 9,
   "metadata": {},
   "outputs": [
    {
     "name": "stdout",
     "output_type": "stream",
     "text": [
      "address : http://www.wikidocs.net/edit/page/7022\n",
      "domain : net\n"
     ]
    }
   ],
   "source": [
    "address = input(\"address : \")\n",
    "\n",
    "domain_list = ['.com', '.net', '.org']\n",
    "\n",
    "for d in domain_list:\n",
    "    if d in address:\n",
    "        domain = d[1:]\n",
    "\n",
    "print (\"domain : \" + domain)"
   ]
  },
  {
   "cell_type": "code",
   "execution_count": 12,
   "metadata": {},
   "outputs": [
    {
     "name": "stdout",
     "output_type": "stream",
     "text": [
      "address: http://www.wikidocs.net/edit/page/7022\n",
      "domain:  net\n"
     ]
    }
   ],
   "source": [
    "# 다른 답\n",
    "url = input(\"address: \")\n",
    "domain = url.split('.')[2][:3]\n",
    "print(\"domain: \", domain)"
   ]
  },
  {
   "cell_type": "markdown",
   "metadata": {},
   "source": [
    "## 030 문자열 분리\n",
    "다음 문자열에 대해 문자열 길이를 기준으로 두 부분으로 분리하여 출력하라."
   ]
  },
  {
   "cell_type": "code",
   "execution_count": 10,
   "metadata": {},
   "outputs": [
    {
     "name": "stdout",
     "output_type": "stream",
     "text": [
      "18\n",
      "9\n",
      "introduci\n",
      "ng python\n"
     ]
    }
   ],
   "source": [
    "letters = \"introducing python\"\n",
    "\n",
    "l = int(len(letters)/2)\n",
    "\n",
    "print (int(len(letters)))\n",
    "print (l)\n",
    "print (letters[:l])\n",
    "print (letters[l:])"
   ]
  },
  {
   "cell_type": "code",
   "execution_count": null,
   "metadata": {},
   "outputs": [],
   "source": []
  }
 ],
 "metadata": {
  "kernelspec": {
   "display_name": "Python 3",
   "language": "python",
   "name": "python3"
  },
  "language_info": {
   "codemirror_mode": {
    "name": "ipython",
    "version": 3
   },
   "file_extension": ".py",
   "mimetype": "text/x-python",
   "name": "python",
   "nbconvert_exporter": "python",
   "pygments_lexer": "ipython3",
   "version": "3.6.0"
  }
 },
 "nbformat": 4,
 "nbformat_minor": 2
}
