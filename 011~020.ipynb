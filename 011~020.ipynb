{
 "cells": [
  {
   "cell_type": "markdown",
   "metadata": {},
   "source": [
    "# 01. 변수와 문자열\n",
    "----------------------------------------------------------------------"
   ]
  },
  {
   "cell_type": "markdown",
   "metadata": {},
   "source": [
    "## 011 이스케이프 문자\n",
    "다음 코드를 실행해보고 \\t와 \\n의 역할을 설명하라.\n",
    "*\\t : Tab\n",
    "*\\n : Line break"
   ]
  },
  {
   "cell_type": "code",
   "execution_count": 1,
   "metadata": {},
   "outputs": [
    {
     "name": "stdout",
     "output_type": "stream",
     "text": [
      "a\tb\tc\t\n",
      "a\n",
      "b\n",
      "c\n",
      "\n"
     ]
    }
   ],
   "source": [
    "print(\"a\\tb\\tc\\t\")\n",
    "print(\"a\\nb\\nc\\n\")"
   ]
  },
  {
   "cell_type": "markdown",
   "metadata": {},
   "source": [
    "## 012 구분자를 사용한 출력\n",
    "print() 함수를 사용하여 다음과 같이 출력하라. (힌트: sep 인자 사용)"
   ]
  },
  {
   "cell_type": "code",
   "execution_count": 2,
   "metadata": {},
   "outputs": [
    {
     "name": "stdout",
     "output_type": "stream",
     "text": [
      "naver;kakao;sk;samsung\n"
     ]
    }
   ],
   "source": [
    "print ('naver', 'kakao', 'sk', 'samsung', sep=\";\")"
   ]
  },
  {
   "cell_type": "markdown",
   "metadata": {},
   "source": [
    "## 013 문자열 길이\n",
    "mystring이라는 문자열의 길이를 출력하는 프로그램을 구현하라."
   ]
  },
  {
   "cell_type": "code",
   "execution_count": 3,
   "metadata": {},
   "outputs": [
    {
     "name": "stdout",
     "output_type": "stream",
     "text": [
      "11\n"
     ]
    }
   ],
   "source": [
    "mystring = \"hello world\"\n",
    "print (len(mystring))"
   ]
  },
  {
   "cell_type": "markdown",
   "metadata": {},
   "source": [
    "## 014 문자열 슬라이싱\n",
    "자동차 번호가 다음과 같을 때 뒤에 4자리만 출력하라."
   ]
  },
  {
   "cell_type": "code",
   "execution_count": 4,
   "metadata": {},
   "outputs": [
    {
     "name": "stdout",
     "output_type": "stream",
     "text": [
      "2210\n"
     ]
    }
   ],
   "source": [
    "licence_plate = \"24가 2210\"\n",
    "\n",
    "print (licence_plate[-4:])"
   ]
  },
  {
   "cell_type": "markdown",
   "metadata": {},
   "source": [
    "## 015 문자열 분리\n",
    "영상의 크기를 resolution이 바이딩하고 있을 때 영상의 너비와 높이를 출력하라. 예를 들어, \"176x144\"이면 너비가 176 높이가 144이다."
   ]
  },
  {
   "cell_type": "code",
   "execution_count": 5,
   "metadata": {},
   "outputs": [
    {
     "name": "stdout",
     "output_type": "stream",
     "text": [
      "width : 1920\n",
      "height : 1080\n"
     ]
    }
   ],
   "source": [
    "resolution2 = \"1920x1080\"\n",
    "sp = resolution2.split('x')\n",
    "\n",
    "print (\"width : {}\".format(sp[0]))\n",
    "print (\"height : {}\".format(sp[1]))"
   ]
  },
  {
   "cell_type": "markdown",
   "metadata": {},
   "source": [
    "## 016 문자열 거꾸로 뒤집기\n",
    "문자열을 거꾸로 뒤집어 출력하라."
   ]
  },
  {
   "cell_type": "code",
   "execution_count": 6,
   "metadata": {},
   "outputs": [
    {
     "name": "stdout",
     "output_type": "stream",
     "text": [
      "output : NOHTYP\n"
     ]
    }
   ],
   "source": [
    "input1 = \"PYTHON\"\n",
    "\n",
    "print (\"output : {}\".format(input1[::-1]))"
   ]
  },
  {
   "cell_type": "markdown",
   "metadata": {},
   "source": [
    "## 017 문자열 합치기\n",
    "변수 s와 t가 바인딩하는 문자열을 합쳐 출력하라. 단, 중간에 공백이 하나 존재한다."
   ]
  },
  {
   "cell_type": "code",
   "execution_count": 7,
   "metadata": {},
   "outputs": [
    {
     "name": "stdout",
     "output_type": "stream",
     "text": [
      "hello python\n"
     ]
    }
   ],
   "source": [
    "s = \"hello\"\n",
    "t = \"python\"\n",
    "\n",
    "print (s,t, sep=\" \")"
   ]
  },
  {
   "cell_type": "markdown",
   "metadata": {},
   "source": [
    "## 018 문자열 곱하기\n",
    "화면에 '-'를 80개 출력하라."
   ]
  },
  {
   "cell_type": "code",
   "execution_count": 8,
   "metadata": {},
   "outputs": [
    {
     "name": "stdout",
     "output_type": "stream",
     "text": [
      "--------------------------------------------------------------------------------\n",
      "80\n"
     ]
    }
   ],
   "source": [
    "a = '-'*80\n",
    "print (a)\n",
    "print (len(a))"
   ]
  },
  {
   "cell_type": "markdown",
   "metadata": {},
   "source": [
    "## 019 문자열 곱하기2\n",
    "변수가 다음과 같이 문자열을 바인딩하고 있을 때 실행 예와 같이 출력하는 프로그램을 작성하라."
   ]
  },
  {
   "cell_type": "code",
   "execution_count": 9,
   "metadata": {},
   "outputs": [
    {
     "name": "stdout",
     "output_type": "stream",
     "text": [
      "python java python java python java python java \n",
      "python java java python java java \n"
     ]
    }
   ],
   "source": [
    "t1 = 'python'\n",
    "t2 = 'java'\n",
    "\n",
    "sum = t1+' '+t2+' '\n",
    "print (sum*4)\n",
    "\n",
    "sum = t1+' '+(t2+\" \")*2\n",
    "print (sum*2)"
   ]
  },
  {
   "cell_type": "markdown",
   "metadata": {},
   "source": [
    "## 020 사칙 연산\n",
    "숫자를 입력 받아 30% 증가 된 값을 출력하라."
   ]
  },
  {
   "cell_type": "code",
   "execution_count": 10,
   "metadata": {},
   "outputs": [
    {
     "name": "stdout",
     "output_type": "stream",
     "text": [
      "num : 10000\n",
      "13000.0\n"
     ]
    }
   ],
   "source": [
    "num = int(input(\"num : \"))\n",
    "print (num*1.3)"
   ]
  },
  {
   "cell_type": "code",
   "execution_count": null,
   "metadata": {},
   "outputs": [],
   "source": []
  }
 ],
 "metadata": {
  "kernelspec": {
   "display_name": "Python 3",
   "language": "python",
   "name": "python3"
  },
  "language_info": {
   "codemirror_mode": {
    "name": "ipython",
    "version": 3
   },
   "file_extension": ".py",
   "mimetype": "text/x-python",
   "name": "python",
   "nbconvert_exporter": "python",
   "pygments_lexer": "ipython3",
   "version": "3.6.0"
  }
 },
 "nbformat": 4,
 "nbformat_minor": 2
}
