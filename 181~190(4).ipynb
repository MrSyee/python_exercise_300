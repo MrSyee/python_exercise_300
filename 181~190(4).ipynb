{
 "cells": [
  {
   "cell_type": "markdown",
   "metadata": {},
   "source": [
    "# 05. 파이썬 클래스\n",
    "----------------------------------------------------------------------"
   ]
  },
  {
   "cell_type": "markdown",
   "metadata": {},
   "source": [
    "## 181 클래스 상속\n",
    "클래스 A를 상속받는 클래스 B를 선언하여라."
   ]
  },
  {
   "cell_type": "code",
   "execution_count": 1,
   "metadata": {},
   "outputs": [
    {
     "name": "stdout",
     "output_type": "stream",
     "text": [
      "Class A\n",
      "Class B\n"
     ]
    }
   ],
   "source": [
    "class A:\n",
    "    def printA(self):\n",
    "        print ('Class A')\n",
    "\n",
    "class B(A):\n",
    "    def printB(self):\n",
    "        print('Class B')\n",
    "        \n",
    "b = B()\n",
    "b.printA()\n",
    "b.printB()    "
   ]
  },
  {
   "cell_type": "markdown",
   "metadata": {},
   "source": [
    "## 182 다중 상속\n",
    "클래스 A와 클래스 B를 상속 받는 클래스 C를 선언하여라."
   ]
  },
  {
   "cell_type": "code",
   "execution_count": 2,
   "metadata": {},
   "outputs": [
    {
     "name": "stdout",
     "output_type": "stream",
     "text": [
      "Class A\n",
      "Class B\n",
      "Class C\n"
     ]
    }
   ],
   "source": [
    "class A:\n",
    "    def printA(self):\n",
    "        print ('Class A')\n",
    "\n",
    "class B:\n",
    "    def printB(self):\n",
    "        print('Class B')\n",
    "        \n",
    "class C(A, B):\n",
    "    def printC(self):\n",
    "        print('Class C')\n",
    "        \n",
    "c = C()\n",
    "c.printA()\n",
    "c.printB()\n",
    "c.printC()"
   ]
  },
  {
   "cell_type": "markdown",
   "metadata": {},
   "source": [
    "## 183 상속에서의 우선순위\n",
    "\n",
    "다음과 같이 상속 받는 클래스를 만들어 class B로 만든 인스턴스의 who() method를 출력해보자."
   ]
  },
  {
   "cell_type": "code",
   "execution_count": 3,
   "metadata": {},
   "outputs": [
    {
     "name": "stdout",
     "output_type": "stream",
     "text": [
      "I am B\n"
     ]
    }
   ],
   "source": [
    "class A () : \n",
    "  def who(self) :\n",
    "    print (\"I am A\")\n",
    "class B (A) : \n",
    "  def who(self) :  \n",
    "     print (\"I am B\")\n",
    "        \n",
    "b = B()\n",
    "b.who()"
   ]
  },
  {
   "cell_type": "markdown",
   "metadata": {},
   "source": [
    "## 184 다중 상속에서의 우선순위\n",
    "부모 클래스 A와 B, 그리고 자식 클래스 C와 D가 아래와 같이 정의되어 있다고 가정하자.\n",
    "\n",
    "인스턴스 c와 d에서 각각 who() 메소드를 호출한 결과를 예측하여라."
   ]
  },
  {
   "cell_type": "code",
   "execution_count": 4,
   "metadata": {},
   "outputs": [
    {
     "name": "stdout",
     "output_type": "stream",
     "text": [
      "I am A\n",
      "I am B\n"
     ]
    }
   ],
   "source": [
    "class A () : \n",
    "  def who(self) :\n",
    "    print (\"I am A\")\n",
    "class B () :\n",
    "  def who(self) :\n",
    "    print (\"I am B\")\n",
    "\n",
    "class C (A, B) :\n",
    "   pass\n",
    "class D (B, A) :\n",
    "   pass     \n",
    "\n",
    "c = C()\n",
    "c.who() # I am A\n",
    "d = D()\n",
    "d.who() # I am B"
   ]
  },
  {
   "cell_type": "code",
   "execution_count": null,
   "metadata": {
    "collapsed": true
   },
   "outputs": [],
   "source": []
  }
 ],
 "metadata": {
  "kernelspec": {
   "display_name": "Python 3",
   "language": "python",
   "name": "python3"
  },
  "language_info": {
   "codemirror_mode": {
    "name": "ipython",
    "version": 3
   },
   "file_extension": ".py",
   "mimetype": "text/x-python",
   "name": "python",
   "nbconvert_exporter": "python",
   "pygments_lexer": "ipython3",
   "version": "3.6.3"
  }
 },
 "nbformat": 4,
 "nbformat_minor": 2
}
