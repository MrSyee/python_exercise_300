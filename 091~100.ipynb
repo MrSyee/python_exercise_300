{
 "cells": [
  {
   "cell_type": "markdown",
   "metadata": {},
   "source": [
    "# 03. 파이썬 제어문\n",
    "----------------------------------------------------------------------"
   ]
  },
  {
   "cell_type": "markdown",
   "metadata": {},
   "source": [
    "## 091 역방향 순환\n",
    "다음 리스트에 있는 숫자를 역 방향으로 출력하라."
   ]
  },
  {
   "cell_type": "code",
   "execution_count": 1,
   "metadata": {},
   "outputs": [
    {
     "name": "stdout",
     "output_type": "stream",
     "text": [
      "5\n",
      "4\n",
      "3\n",
      "2\n",
      "1\n"
     ]
    }
   ],
   "source": [
    "nums = [1, 2, 3, 4, 5]\n",
    "\n",
    "def out_reverse(nums):\n",
    "    for n in reversed(nums):\n",
    "        print (n)\n",
    "        \n",
    "out_reverse(nums)"
   ]
  },
  {
   "cell_type": "markdown",
   "metadata": {},
   "source": [
    "## 092 in 연산자\n",
    "투자 경고 종목 리스트가 있을 때 사용자로부터 종목명을 입력 받은 후 해당 종목이 투자 경고 종목이라면 '투자 경고 종목입니다'를 아니면 \"투자 경고 종목이 아닙니다.\"를 출력하는 프로그램을 작성하라."
   ]
  },
  {
   "cell_type": "code",
   "execution_count": 2,
   "metadata": {},
   "outputs": [
    {
     "name": "stdout",
     "output_type": "stream",
     "text": [
      "종목 입력 : Doogle\n",
      "투자 경고 종목입니다.\n"
     ]
    }
   ],
   "source": [
    "warn_investment_list = [\"Nicrosoft\", \"Doogle\", \"Never\", \"KiKio\", \"SEMSUNG\", \"HELG\"]\n",
    "\n",
    "def warn_investment(warn_list):\n",
    "    invest = input('종목 입력 : ')\n",
    "    if invest in warn_list:\n",
    "        print ('투자 경고 종목입니다.')\n",
    "    else:\n",
    "        print ('투자 경고 종목이 아닙니다.')\n",
    "        \n",
    "warn_investment(warn_investment_list)"
   ]
  },
  {
   "cell_type": "markdown",
   "metadata": {},
   "source": [
    "## 093 남자, 여자 구분하기\n",
    "주민등록번호 뒷 자리 7자리 중 첫째자는 성별을 나타냅니다. 1, 3은 남자를 2, 4는 여자를 의미합니다. 사용자로부터 '821010-1635210'와 같이 13자리의 주민등록번호를 입력 받은 후 성별 (남자, 여자)를 출력하는 프로그램을 작성하라."
   ]
  },
  {
   "cell_type": "code",
   "execution_count": 3,
   "metadata": {},
   "outputs": [
    {
     "name": "stdout",
     "output_type": "stream",
     "text": [
      "주민등록번호 : 930727-1111111\n",
      "남자\n"
     ]
    }
   ],
   "source": [
    "resi_num = input('주민등록번호 : ')\n",
    "\n",
    "def man_or_woman(resi_num):\n",
    "    _, num = resi_num.split('-')\n",
    "    if num.startswith('1') or num.startswith('3'):\n",
    "        print ('남자')\n",
    "    elif num.startswith('2') or num.startswith('4'):\n",
    "        print ('여자')\n",
    "        \n",
    "man_or_woman(resi_num)"
   ]
  },
  {
   "cell_type": "markdown",
   "metadata": {},
   "source": [
    "## 094 주민등록번호를 이용한 출생지 알아보기\n",
    "주민등록번호의 뒷 자리 7자리 중 두번째와 세번째는 지역코드를 의미합니다. 다음 표를 참조하여 사용자로부터 주민 등록 번호를 입력 받은 후 출생지를 출력하는 프로그램을 작성하라."
   ]
  },
  {
   "cell_type": "code",
   "execution_count": 4,
   "metadata": {},
   "outputs": [
    {
     "name": "stdout",
     "output_type": "stream",
     "text": [
      "주민등록번호 : 930727-1010000\n",
      "서울\n"
     ]
    }
   ],
   "source": [
    "resi_num = input('주민등록번호 : ')\n",
    "\n",
    "def where_hometown(resi_num):\n",
    "    _, num = resi_num.split('-')\n",
    "    areacode = int(num[1:3])\n",
    "    hometown = ''\n",
    "    if areacode>=0 and areacode<=8:\n",
    "        hometown='서울'\n",
    "    elif areacode>=9 and areacode<=12:\n",
    "        hometown='부산'\n",
    "    elif areacode>=13 and areacode<=15:\n",
    "        hometown='인천'\n",
    "    elif areacode>=16 and areacode<=25:\n",
    "        hometown='경기도'\n",
    "    elif areacode>=26 and areacode<=34:\n",
    "        hometown='강원도'\n",
    "    elif areacode>=35 and areacode<=39:\n",
    "        hometown='충청북도'\n",
    "    elif areacode>=41 and areacode<=47:\n",
    "        hometown='충청남도'\n",
    "    elif areacode>=48 and areacode<=55:\n",
    "        hometown='전라북도'\n",
    "    elif areacode>=56 and areacode<=64:\n",
    "        hometown='전라남도'\n",
    "    elif areacode>=70 and areacode<=80:\n",
    "        hometown='경상북도'\n",
    "    elif areacode>=85:\n",
    "        hometown='울산 광역시'\n",
    "    elif areacode>=81 and areacode<=99 and areacode!=85:\n",
    "        hometown='경상남도'\n",
    "    elif areacode>=40:\n",
    "        hometown='대전 광역시'\n",
    "    elif areacode>=65 and areacode<=66:\n",
    "        hometown='광주 광역시'\n",
    "    elif areacode>=67 and areacode<=69:\n",
    "        hometown='대구 광역시'\n",
    "        \n",
    "    print(hometown)\n",
    "    \n",
    "where_hometown(resi_num)"
   ]
  },
  {
   "cell_type": "markdown",
   "metadata": {},
   "source": [
    "## 095 주민등록번호 유효성 검사기\n",
    "주민등록번호는 13자리로 구성되는데 마지막 자리수는 주민등록번호의 유효성을 체크하는데 사용된다. 먼저 앞에서부터 12자리의 숫자에 2, 3, 4, 5, 6, 7, 8, 9, 2, 3, 4, 5를 차례로 곱한 뒤 그 값을 전부 더한다. 연산 결과 값을 11로 나누면 나머지가 나오는데 11에서 나머지를 뺀 값이 주민등록번호의 마지막 번호가 된다.\n",
    "\n",
    "위와 같이 821010-1635210에 대해서 계산을 해보면 마지막 자리는 4가 되어야 함을 알 수 있다. 즉, 821010-1635210은 유효하지 않은 주민등록번호임을 알 수 있다.\n",
    "\n",
    "다음과 같이 사용자로부터 주민등록번호를 입력받은 후 주민등록번호가 유효한지를 출력하는 프로그램을 작성하라"
   ]
  },
  {
   "cell_type": "code",
   "execution_count": 6,
   "metadata": {},
   "outputs": [
    {
     "name": "stdout",
     "output_type": "stream",
     "text": [
      "주민등록번호 : 821010-1635210\n",
      "NOT Valid\n"
     ]
    }
   ],
   "source": [
    "resi_num = input('주민등록번호 : ')\n",
    "\n",
    "def resi_num_valid(resi_num):\n",
    "    f, b = resi_num.split('-')\n",
    "    resi = f  + b\n",
    "    check = 0\n",
    "    cal_num = 2\n",
    "    for r in resi[:-1]:\n",
    "        check += int(r)*cal_num\n",
    "        cal_num += 1\n",
    "        if cal_num > 9:\n",
    "            cal_num = 2\n",
    "            \n",
    "    check = check%11\n",
    "    check = 11 - check\n",
    "    \n",
    "    if check == int(resi[-1]):\n",
    "        print ('Valid OK')\n",
    "    else:\n",
    "        print ('NOT Valid')\n",
    "    \n",
    "resi_num_valid(resi_num)"
   ]
  },
  {
   "cell_type": "markdown",
   "metadata": {},
   "source": [
    "## 096 애완 동물 출력하기\n",
    "다음과 같이 애완 동물 리스트가 있을 때 애완 동물의 이름과 애완 동물의 글자수를 출력하라."
   ]
  },
  {
   "cell_type": "code",
   "execution_count": 7,
   "metadata": {},
   "outputs": [
    {
     "name": "stdout",
     "output_type": "stream",
     "text": [
      "dog 3\n",
      "cat 3\n",
      "parrot 6\n",
      "squirrel 8\n",
      "goldfish 8\n"
     ]
    }
   ],
   "source": [
    "pet = ['dog', 'cat', 'parrot', 'squirrel', 'goldfish']\n",
    "\n",
    "def print_name_leng(pet):\n",
    "    for p in pet:\n",
    "        print ('{0} {1}'.format(p,len(p)))\n",
    "    \n",
    "print_name_leng(pet)"
   ]
  },
  {
   "cell_type": "markdown",
   "metadata": {},
   "source": [
    "## 097 3의 배수 출력하기\n",
    "1부터 30까지의 숫자 중 3의 배수를 출력하라."
   ]
  },
  {
   "cell_type": "code",
   "execution_count": 8,
   "metadata": {},
   "outputs": [
    {
     "name": "stdout",
     "output_type": "stream",
     "text": [
      "3 6 9 12 15 18 21 24 27 30 "
     ]
    }
   ],
   "source": [
    "num = []\n",
    "for n in range(1,31):\n",
    "    if n%3 == 0:\n",
    "        print(n, end=\" \")        "
   ]
  },
  {
   "cell_type": "markdown",
   "metadata": {},
   "source": [
    "## 098 구구단 출력하기\n",
    "사용자로부터 2~9 사이의 숫자를 입력 받은 후 해당 숫자에 대한 구구단을 출력하는 프로그램을 작성하라."
   ]
  },
  {
   "cell_type": "code",
   "execution_count": 9,
   "metadata": {},
   "outputs": [
    {
     "name": "stdout",
     "output_type": "stream",
     "text": [
      "구구단 : 4\n",
      "4 x 1 = 4\n",
      "4 x 3 = 12\n",
      "4 x 5 = 20\n",
      "4 x 7 = 28\n",
      "4 x 9 = 36\n"
     ]
    }
   ],
   "source": [
    "num = int(input('구구단 : '))\n",
    "\n",
    "def gugudan(num):\n",
    "    for i in range(1,10):\n",
    "        if i%2 != 0:\n",
    "            print (\"{0} x {1} = {2}\".format(num, i, num*i))\n",
    "    \n",
    "gugudan(num)"
   ]
  },
  {
   "cell_type": "markdown",
   "metadata": {},
   "source": [
    "## 100 문자열 뒤집기\n",
    "사용자로부터 문자열을 입력받은 후 입력 문자열을 뒤집어 출력하는 프로그램을 작성하라."
   ]
  },
  {
   "cell_type": "code",
   "execution_count": 10,
   "metadata": {},
   "outputs": [
    {
     "name": "stdout",
     "output_type": "stream",
     "text": [
      "문자열 입력 : python\n",
      "nohtyp\n"
     ]
    }
   ],
   "source": [
    "string = input(\"문자열 입력 : \")\n",
    "\n",
    "print (string[::-1])"
   ]
  },
  {
   "cell_type": "code",
   "execution_count": 11,
   "metadata": {},
   "outputs": [
    {
     "name": "stdout",
     "output_type": "stream",
     "text": [
      "문자열 입력 : python\n",
      "nohtyp\n"
     ]
    }
   ],
   "source": [
    "# 다른 방법\n",
    "string = input(\"문자열 입력 : \")\n",
    "\n",
    "print (''.join(reversed(string)))"
   ]
  },
  {
   "cell_type": "code",
   "execution_count": null,
   "metadata": {
    "collapsed": true
   },
   "outputs": [],
   "source": []
  }
 ],
 "metadata": {
  "kernelspec": {
   "display_name": "Python 3",
   "language": "python",
   "name": "python3"
  },
  "language_info": {
   "codemirror_mode": {
    "name": "ipython",
    "version": 3
   },
   "file_extension": ".py",
   "mimetype": "text/x-python",
   "name": "python",
   "nbconvert_exporter": "python",
   "pygments_lexer": "ipython3",
   "version": "3.6.3"
  }
 },
 "nbformat": 4,
 "nbformat_minor": 2
}
